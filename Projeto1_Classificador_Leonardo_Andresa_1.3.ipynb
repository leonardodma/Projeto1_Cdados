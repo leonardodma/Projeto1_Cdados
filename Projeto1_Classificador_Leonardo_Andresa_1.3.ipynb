{
 "cells": [
  {
   "cell_type": "markdown",
   "metadata": {},
   "source": [
    "# Projeto 1 - Ciência dos Dados"
   ]
  },
  {
   "cell_type": "markdown",
   "metadata": {},
   "source": [
    "#### Nome: Andresa Bicudo\n",
    "\n",
    "#### Nome: Leonardo Malta"
   ]
  },
  {
   "cell_type": "markdown",
   "metadata": {},
   "source": [
    "Atenção: Serão permitidos grupos de três pessoas, mas com uma rubrica mais exigente. Grupos deste tamanho precisarão fazer um questionário de avaliação de trabalho em equipe"
   ]
  },
  {
   "cell_type": "markdown",
   "metadata": {},
   "source": [
    "___\n",
    "Carregando algumas bibliotecas:"
   ]
  },
  {
   "cell_type": "markdown",
   "metadata": {},
   "source": [
    "### TO DO'S:\n",
    "\n",
    "- Separar emojis (de palavras e de emojis)\n",
    "- TABELA RELEVANTE ABSOLUTA + 1 / PALAVRAS RELEVANTES + PALAVRAS TOTAIS\n",
    "- tabela relevante é de todas as palavras, precisamos delas individualmente\n",
    "\n",
    "### Comentários:\n",
    "- soma das palavras dos tweets relevantes = palavras_relevantes\n",
    "- soma das palavras dos tweets irrelevantes = palavras_irrelevantes\n",
    "- $P(Relevante) =$ palavras_relevantes/palavras_totais\n",
    "- $P(Irrelevante) =$ palavras_irrelevantes/palavras_totais\n",
    "- $P(Relevante) + P(Irrelevante) = 1$\n",
    "- palavras_totais = palavras_relevantes + palavras_irrelevantes\n",
    "- $P(tweet|Relevante) = $ DADO\n",
    "- $P(tweet|Irrelevante) = $ DADO\n",
    "- $P(Relevante|tweet) = $ CLASSIFICADOR\n",
    "- $P(Irrelevante|tweet) = $ CLASSIFICADOR\n",
    "- $P(Relevante|tweet) = P(tweet|Relevante)*P(Relevante)/P(tweet)$\n",
    "- $P(Irrelevante|tweet) = P(tweet|Irrelevante)*P(Irrelevante)/P(tweet)$\n",
    "- $P(tweet)$ é a probabilidade da frase ocorrer no espaço amostral total (palavras totais) - será desconsiderada porque ambas as probabilidades medidas pelo classificador, que determinarão se o tweet é relevante ou não, serão divididas por ela. Logo, o resultado qualitativo não se alterará, embora o resukltado quantitativo (percentual se alterará)"
   ]
  },
  {
   "cell_type": "code",
   "execution_count": 92,
   "metadata": {},
   "outputs": [],
   "source": [
    "# Importanto bibliotecas\n",
    "\n",
    "%matplotlib inline\n",
    "import pandas as pd\n",
    "import matplotlib.pyplot as plt\n",
    "import numpy as np\n",
    "import os\n",
    "import re "
   ]
  },
  {
   "cell_type": "code",
   "execution_count": 93,
   "metadata": {
    "scrolled": false
   },
   "outputs": [
    {
     "name": "stdout",
     "output_type": "stream",
     "text": [
      "Esperamos trabalhar no diretório\n",
      "C:\\Users\\user\\Documents\\Insper\\2° semestre\\CDados\\Projetos\\Projeto1_Cdados\n"
     ]
    }
   ],
   "source": [
    "print('Esperamos trabalhar no diretório')\n",
    "print(os.getcwd())"
   ]
  },
  {
   "cell_type": "markdown",
   "metadata": {},
   "source": [
    "Carregando a base de dados com os tweets classificados como relevantes e não relevantes:"
   ]
  },
  {
   "cell_type": "code",
   "execution_count": 94,
   "metadata": {},
   "outputs": [],
   "source": [
    "dados = pd.read_excel('Corona.xlsx')"
   ]
  },
  {
   "cell_type": "code",
   "execution_count": 95,
   "metadata": {},
   "outputs": [
    {
     "data": {
      "text/html": [
       "<div>\n",
       "<style scoped>\n",
       "    .dataframe tbody tr th:only-of-type {\n",
       "        vertical-align: middle;\n",
       "    }\n",
       "\n",
       "    .dataframe tbody tr th {\n",
       "        vertical-align: top;\n",
       "    }\n",
       "\n",
       "    .dataframe thead th {\n",
       "        text-align: right;\n",
       "    }\n",
       "</style>\n",
       "<table border=\"1\" class=\"dataframe\">\n",
       "  <thead>\n",
       "    <tr style=\"text-align: right;\">\n",
       "      <th></th>\n",
       "      <th>Relevância</th>\n",
       "      <th>Mensagem</th>\n",
       "    </tr>\n",
       "  </thead>\n",
       "  <tbody>\n",
       "    <tr>\n",
       "      <th>495</th>\n",
       "      <td>1</td>\n",
       "      <td>bahia\\nclube coloca fazendão à disposição do g...</td>\n",
       "    </tr>\n",
       "    <tr>\n",
       "      <th>496</th>\n",
       "      <td>1</td>\n",
       "      <td>rt @clownhejhuff: 4 mortes por corona.... e o ...</td>\n",
       "    </tr>\n",
       "    <tr>\n",
       "      <th>497</th>\n",
       "      <td>1</td>\n",
       "      <td>pandemia de corona; cuide-se! #isolamento  #is...</td>\n",
       "    </tr>\n",
       "    <tr>\n",
       "      <th>498</th>\n",
       "      <td>1</td>\n",
       "      <td>rt @tito_breno: primeiro caso de corona vírus ...</td>\n",
       "    </tr>\n",
       "    <tr>\n",
       "      <th>499</th>\n",
       "      <td>1</td>\n",
       "      <td>entrei nos casos com suspeita de corona em tub...</td>\n",
       "    </tr>\n",
       "  </tbody>\n",
       "</table>\n",
       "</div>"
      ],
      "text/plain": [
       "     Relevância                                           Mensagem\n",
       "495           1  bahia\\nclube coloca fazendão à disposição do g...\n",
       "496           1  rt @clownhejhuff: 4 mortes por corona.... e o ...\n",
       "497           1  pandemia de corona; cuide-se! #isolamento  #is...\n",
       "498           1  rt @tito_breno: primeiro caso de corona vírus ...\n",
       "499           1  entrei nos casos com suspeita de corona em tub..."
      ]
     },
     "execution_count": 95,
     "metadata": {},
     "output_type": "execute_result"
    }
   ],
   "source": [
    "dados.tail(5)"
   ]
  },
  {
   "cell_type": "markdown",
   "metadata": {},
   "source": [
    "___\n",
    "## Classificador automático de sentimento\n"
   ]
  },
  {
   "cell_type": "markdown",
   "metadata": {},
   "source": [
    "#### Faça aqui uma descrição do seu tema e o que considerou como relevante ou não relevante na classificação dos tweets.\n",
    "\n",
    "Em meio a essa grande pandemia do COVID-19 (Corona Vírus), é função Ministério da Saúde auxiliar a população com informações de prevenção e de cuidados cajo haja suspeita de contaminação, logo, tweets informativos são relevantes, uma vez que se pode evitar compartilhamento de \"fake-news\" e manter as recomendações verdadeiras. Ademais, também é essencial que o governo saiba da ocorrência de eventuais eventos que promovem aglomerações e de pessoas que banalizam a situação, a fim de tomar as medidas necessárias para conter o avanço dessa doença. Por fim, como o assunto está sendo extremamente comentado, muitos memes estão sendo feitos, logo, é preciso filtrá-los, recebendo a classificação de não relevante."
   ]
  },
  {
   "cell_type": "markdown",
   "metadata": {},
   "source": [
    "___\n",
    "### Montando um Classificador Naive-Bayes\n",
    "\n",
    "Considerando apenas as mensagens da planilha Treinamento, ensine  seu classificador."
   ]
  },
  {
   "cell_type": "code",
   "execution_count": 96,
   "metadata": {},
   "outputs": [
    {
     "data": {
      "text/html": [
       "<div>\n",
       "<style scoped>\n",
       "    .dataframe tbody tr th:only-of-type {\n",
       "        vertical-align: middle;\n",
       "    }\n",
       "\n",
       "    .dataframe tbody tr th {\n",
       "        vertical-align: top;\n",
       "    }\n",
       "\n",
       "    .dataframe thead th {\n",
       "        text-align: right;\n",
       "    }\n",
       "</style>\n",
       "<table border=\"1\" class=\"dataframe\">\n",
       "  <thead>\n",
       "    <tr style=\"text-align: right;\">\n",
       "      <th></th>\n",
       "      <th>Relevância</th>\n",
       "      <th>Mensagem</th>\n",
       "    </tr>\n",
       "  </thead>\n",
       "  <tbody>\n",
       "    <tr>\n",
       "      <th>0</th>\n",
       "      <td>Relevante</td>\n",
       "      <td>rt @joaopauloz_: saber que algumas pessoas com...</td>\n",
       "    </tr>\n",
       "    <tr>\n",
       "      <th>1</th>\n",
       "      <td>Irrelevante</td>\n",
       "      <td>rt @thewayjane: se a campeã não sair daqui o c...</td>\n",
       "    </tr>\n",
       "    <tr>\n",
       "      <th>2</th>\n",
       "      <td>Relevante</td>\n",
       "      <td>na espanha tá feio o corona, tenho medo de que...</td>\n",
       "    </tr>\n",
       "    <tr>\n",
       "      <th>3</th>\n",
       "      <td>Irrelevante</td>\n",
       "      <td>rt @george_fredson: dos mesmos criadores de \"a...</td>\n",
       "    </tr>\n",
       "    <tr>\n",
       "      <th>4</th>\n",
       "      <td>Irrelevante</td>\n",
       "      <td>as primeiras que vão pega corona vírus aqui na...</td>\n",
       "    </tr>\n",
       "  </tbody>\n",
       "</table>\n",
       "</div>"
      ],
      "text/plain": [
       "    Relevância                                           Mensagem\n",
       "0    Relevante  rt @joaopauloz_: saber que algumas pessoas com...\n",
       "1  Irrelevante  rt @thewayjane: se a campeã não sair daqui o c...\n",
       "2    Relevante  na espanha tá feio o corona, tenho medo de que...\n",
       "3  Irrelevante  rt @george_fredson: dos mesmos criadores de \"a...\n",
       "4  Irrelevante  as primeiras que vão pega corona vírus aqui na..."
      ]
     },
     "execution_count": 96,
     "metadata": {},
     "output_type": "execute_result"
    }
   ],
   "source": [
    "# Transformando dados em variaveis qualitativas\n",
    "dados.loc[:,'Mensagem'] = dados['Mensagem'].astype('category')\n",
    "dados.loc[:,'Relevância'] = dados['Relevância'].astype('category')\n",
    "dados.Relevância.cat.categories = ['Irrelevante', 'Relevante']\n",
    "dados.head(5)"
   ]
  },
  {
   "cell_type": "code",
   "execution_count": 97,
   "metadata": {},
   "outputs": [
    {
     "data": {
      "text/plain": [
       "'rt @thewayjane: se a campeã não sair daqui o corona já pode cancelar o bbb #bbb20 https://t.co/z4vvf9qn66'"
      ]
     },
     "execution_count": 97,
     "metadata": {},
     "output_type": "execute_result"
    }
   ],
   "source": [
    "# Separando dados em duas tabelas: Relevantes e Irrelevantes \n",
    "tweets_relevantes = dados.loc[dados['Relevância'] == 'Relevante', :]\n",
    "tweets_irrelevantes = dados.loc[dados['Relevância'] == 'Irrelevante', :]\n",
    "\n",
    "# Teste de separação de mensagem\n",
    "tweets_irrelevantes.Mensagem[1]"
   ]
  },
  {
   "cell_type": "code",
   "execution_count": 98,
   "metadata": {},
   "outputs": [],
   "source": [
    "# Criando listas com os índices dos Tweets relevante e irrelevantes\n",
    "lista_indices_relevantes = []\n",
    "lista_indices_irrelevantes = []\n",
    "\n",
    "for i in range(len(dados.Mensagem)):\n",
    "    if dados.Relevância[i] == 'Relevante':\n",
    "        lista_indices_relevantes.append(dados.index[i])\n",
    "    elif dados.Relevância[i] == 'Irrelevante':\n",
    "        lista_indices_irrelevantes.append(dados.index[i])"
   ]
  },
  {
   "cell_type": "code",
   "execution_count": 99,
   "metadata": {},
   "outputs": [
    {
     "name": "stdout",
     "output_type": "stream",
     "text": [
      "['se', 'campeã', 'não', 'sair', 'daqui', 'corona', 'já', 'pode', 'cancelar', 'bbb', 'bbb20']\n"
     ]
    }
   ],
   "source": [
    "# Função de limpeza que troca alguns sinais, menções e links por espaços, e coloca em uma lista.\n",
    "# Link de consulta para fazer essa função: \n",
    "# https://stackoverflow.com/questions/54733828/remove-twitter-mentions-from-pandas-column\n",
    "\n",
    "def cleanup(tweet):\n",
    "    tweet_sem_mencoes = re.sub(\"@[A-Za-z0-9_]+\",\"\", tweet) # Retirando menções\n",
    "    tweet_sem_links = re.sub(r'http\\S+', '', tweet_sem_mencoes) # Retirando links\n",
    "    punctuation = '[_ ! - . : ? ; @ , # / \" * ( )]' # Sinais que serão substituidos por espaços\n",
    "    pattern = re.compile(punctuation)\n",
    "    tweet_sem_pontuacao = re.sub(pattern, ' ', tweet_sem_links) # Retirando sinais\n",
    "    lista_tweet_semifinal = tweet_sem_pontuacao.split()\n",
    "    # Removendo itens desnecessários para a classificação (retweets - 'rt', e artigos - 'a','o','as','os')\\\n",
    "    itens_desnecessarios = ['rt','a','o','as','os']  \n",
    "    for item in itens_desnecessarios:\n",
    "        for palavra in lista_tweet_semifinal:\n",
    "            if palavra == item:\n",
    "                lista_tweet_semifinal.remove(palavra)\n",
    "            #if palavra == #emoji:\n",
    "                \n",
    "    lista_tweet_final = lista_tweet_semifinal\n",
    "    return lista_tweet_final\n",
    "\n",
    "# Teste do uso da função de limpeza\n",
    "my_str = cleanup(tweets_irrelevantes.Mensagem[1])\n",
    "print(my_str)"
   ]
  },
  {
   "cell_type": "code",
   "execution_count": 100,
   "metadata": {},
   "outputs": [
    {
     "name": "stdout",
     "output_type": "stream",
     "text": [
      "8305\n"
     ]
    }
   ],
   "source": [
    "# Colocando todas a palavras relevantes em uma lista, usando a lista de índices criadas anteriormente:\n",
    "todas_palavras_relevantes = []\n",
    "todas_palavras_irrelevantes = []\n",
    "\n",
    "for i in range(len(lista_indices_relevantes)):\n",
    "    todas_palavras_relevantes.append(cleanup(tweets_relevantes.Mensagem[lista_indices_relevantes[i]]))\n",
    "\n",
    "for p in range(len(lista_indices_irrelevantes)):\n",
    "    todas_palavras_irrelevantes.append(cleanup(tweets_irrelevantes.Mensagem[lista_indices_irrelevantes[p]]))\n",
    "\n",
    "# Trasnformando uma lista de listas em uma única lista:\n",
    "palavras_relevantes = []\n",
    "palavras_irrelevantes = []\n",
    "\n",
    "def Listas2lista(listadelistas):\n",
    "    nova_lista = []\n",
    "    for sublista in listadelistas:\n",
    "        for item in sublista:\n",
    "            nova_lista.append(item)\n",
    "    return nova_lista\n",
    "\n",
    "palavras_relevantes = Listas2lista(todas_palavras_relevantes)\n",
    "palavras_irrelevantes = Listas2lista(todas_palavras_irrelevantes)\n",
    "\n",
    "palvras_relevantes_data = pd.Series(palavras_relevantes)\n",
    "palvras_irrelevantes_data = pd.Series(palavras_irrelevantes)\n",
    "\n",
    "palavras_totais = palavras_relevantes + palavras_irrelevantes\n",
    "\n",
    "print(len(palavras_totais))"
   ]
  },
  {
   "cell_type": "code",
   "execution_count": 101,
   "metadata": {},
   "outputs": [
    {
     "name": "stdout",
     "output_type": "stream",
     "text": [
      "A probabilidade de qualque palavra ser relevante é de 57.47140276941602%\n",
      "A probabilidade de qualque palavra ser irrelevante é de 42.52859723058398%\n"
     ]
    }
   ],
   "source": [
    "#Probabilidade de ser Relevante ou Irrelevante dentro de todas as palavras da base de treinamento\n",
    "P_relevante = len(palavras_relevantes)/(len(palavras_totais))\n",
    "P_irrelevante = len(palavras_irrelevantes)/(len(palavras_totais))\n",
    "\n",
    "print('A probabilidade de qualque palavra ser relevante é de {0}%'.format((P_relevante*100)))\n",
    "print('A probabilidade de qualque palavra ser irrelevante é de {0}%'.format(P_irrelevante*100))"
   ]
  },
  {
   "cell_type": "code",
   "execution_count": 102,
   "metadata": {},
   "outputs": [
    {
     "data": {
      "text/plain": [
       "corona    252\n",
       "de        102\n",
       "vírus      87\n",
       "que        78\n",
       "eu         71\n",
       "dtype: int64"
      ]
     },
     "execution_count": 102,
     "metadata": {},
     "output_type": "execute_result"
    }
   ],
   "source": [
    "# Tabelas de frequências absolutas:\n",
    "tabela_relevantes_abs = palvras_relevantes_data.value_counts()\n",
    "tabela_irrelevantes_abs = palvras_irrelevantes_data.value_counts()\n",
    "tabela_irrelevantes_abs.head()"
   ]
  },
  {
   "cell_type": "code",
   "execution_count": 103,
   "metadata": {},
   "outputs": [
    {
     "data": {
      "text/plain": [
       "corona    0.048188\n",
       "de        0.036874\n",
       "que       0.024513\n",
       "e         0.022627\n",
       "do        0.021580\n",
       "dtype: float64"
      ]
     },
     "execution_count": 103,
     "metadata": {},
     "output_type": "execute_result"
    }
   ],
   "source": [
    "# Tabelas de frequências relativas:\n",
    "tabela_relevantes_rel = palvras_relevantes_data.value_counts(True)\n",
    "tabela_irrelevantes_rel = palvras_irrelevantes_data.value_counts(True)\n",
    "tabela_relevantes_rel.head()"
   ]
  },
  {
   "cell_type": "code",
   "execution_count": 104,
   "metadata": {},
   "outputs": [],
   "source": [
    "# Essa função calcula a Probabilidade de, dado o tweet, este ser relevante ou irrelevante:\n",
    "\n",
    "palavras_sem_repetições = list(dict.fromkeys(palavras_totais))\n",
    "\n",
    "def calcula_probabilidades(tweet, P_relevante, P_irrelevante):\n",
    "    \n",
    "    # Uso da função Cleanup para limpar o tweet e trasnformá-lo em uma lista de palavras\n",
    "    tweet = cleanup(tweet)\n",
    "    \n",
    "    # Uso do Laplace smoothing\n",
    "    P_tweet_dado_relevante = (((tabela_relevantes_abs[tweet])+1)/len(palavras_relevantes)+len(palavras_sem_repetições)).prod()\n",
    "    P_tweet_dado_irrelevante = (((tabela_irrelevantes_abs[tweet])+1)/(len(palavras_irrelevantes)+len(palavras_sem_repetições))).prod()\n",
    "\n",
    "    P_relevante_dado_tweet = P_tweet_dado_relevante  * P_relevante\n",
    "    P_irrelevante_dado_tweet = P_tweet_dado_irrelevante * P_irrelevante\n",
    "    \n",
    "    probabilidades = [P_irrelevante_dado_tweet,P_relevante_dado_tweet]\n",
    "    return probabilidades\n",
    "    "
   ]
  },
  {
   "cell_type": "code",
   "execution_count": 105,
   "metadata": {},
   "outputs": [
    {
     "name": "stdout",
     "output_type": "stream",
     "text": [
      "Relevante\n"
     ]
    }
   ],
   "source": [
    "# Teste do Classificador com Tweet aleatório\n",
    "def Classificador(probabilidades):\n",
    "    P_irrelevante_dado_tweet = probabilidades[0]\n",
    "    P_relevante_dado_tweet = probabilidades[1]\n",
    "\n",
    "    if (P_irrelevante_dado_tweet < P_relevante_dado_tweet):\n",
    "        return 'Relevante'\n",
    "    elif (P_irrelevante_dado_tweet > P_relevante_dado_tweet):\n",
    "        return 'Irrelevante'\n",
    "    \n",
    "tweet_teste = \"Para se previnir contra o Corona, lave as mãos com sabão\"\n",
    "\n",
    "teste = Classificador(calcula_probabilidades(tweet_teste, P_relevante, P_irrelevante))\n",
    "\n",
    "print(teste)"
   ]
  },
  {
   "cell_type": "code",
   "execution_count": 106,
   "metadata": {},
   "outputs": [
    {
     "data": {
      "text/html": [
       "<div>\n",
       "<style scoped>\n",
       "    .dataframe tbody tr th:only-of-type {\n",
       "        vertical-align: middle;\n",
       "    }\n",
       "\n",
       "    .dataframe tbody tr th {\n",
       "        vertical-align: top;\n",
       "    }\n",
       "\n",
       "    .dataframe thead th {\n",
       "        text-align: right;\n",
       "    }\n",
       "</style>\n",
       "<table border=\"1\" class=\"dataframe\">\n",
       "  <thead>\n",
       "    <tr style=\"text-align: right;\">\n",
       "      <th></th>\n",
       "      <th>Relevância</th>\n",
       "      <th>Mensagem</th>\n",
       "      <th>Classificação Treinamento</th>\n",
       "    </tr>\n",
       "  </thead>\n",
       "  <tbody>\n",
       "    <tr>\n",
       "      <th>0</th>\n",
       "      <td>Relevante</td>\n",
       "      <td>rt @joaopauloz_: saber que algumas pessoas com...</td>\n",
       "      <td>Relevante</td>\n",
       "    </tr>\n",
       "    <tr>\n",
       "      <th>1</th>\n",
       "      <td>Irrelevante</td>\n",
       "      <td>rt @thewayjane: se a campeã não sair daqui o c...</td>\n",
       "      <td>Relevante</td>\n",
       "    </tr>\n",
       "    <tr>\n",
       "      <th>2</th>\n",
       "      <td>Relevante</td>\n",
       "      <td>na espanha tá feio o corona, tenho medo de que...</td>\n",
       "      <td>Relevante</td>\n",
       "    </tr>\n",
       "    <tr>\n",
       "      <th>3</th>\n",
       "      <td>Irrelevante</td>\n",
       "      <td>rt @george_fredson: dos mesmos criadores de \"a...</td>\n",
       "      <td>Relevante</td>\n",
       "    </tr>\n",
       "    <tr>\n",
       "      <th>4</th>\n",
       "      <td>Irrelevante</td>\n",
       "      <td>as primeiras que vão pega corona vírus aqui na...</td>\n",
       "      <td>Relevante</td>\n",
       "    </tr>\n",
       "    <tr>\n",
       "      <th>5</th>\n",
       "      <td>Irrelevante</td>\n",
       "      <td>rt @anaalu1313: q ódio desse corona vairus put...</td>\n",
       "      <td>Relevante</td>\n",
       "    </tr>\n",
       "    <tr>\n",
       "      <th>6</th>\n",
       "      <td>Relevante</td>\n",
       "      <td>rt @lc_juh: em época de corona vírus trago diá...</td>\n",
       "      <td>Relevante</td>\n",
       "    </tr>\n",
       "    <tr>\n",
       "      <th>7</th>\n",
       "      <td>Irrelevante</td>\n",
       "      <td>os dente tudo podre nojento a pele escamando s...</td>\n",
       "      <td>Relevante</td>\n",
       "    </tr>\n",
       "    <tr>\n",
       "      <th>8</th>\n",
       "      <td>Relevante</td>\n",
       "      <td>rt @marcospiu_: corona vírus 🦠 \\n\\n-mais de 70...</td>\n",
       "      <td>Relevante</td>\n",
       "    </tr>\n",
       "    <tr>\n",
       "      <th>9</th>\n",
       "      <td>Irrelevante</td>\n",
       "      <td>@pedroneves_ @merinho_show @lucas_banks_ @dieg...</td>\n",
       "      <td>Relevante</td>\n",
       "    </tr>\n",
       "    <tr>\n",
       "      <th>10</th>\n",
       "      <td>Irrelevante</td>\n",
       "      <td>rt @marfonsn: acabei de ouvir que o corona vír...</td>\n",
       "      <td>Relevante</td>\n",
       "    </tr>\n",
       "    <tr>\n",
       "      <th>11</th>\n",
       "      <td>Relevante</td>\n",
       "      <td>eu vendo uma idosa vindo visitar minha avó que...</td>\n",
       "      <td>Relevante</td>\n",
       "    </tr>\n",
       "    <tr>\n",
       "      <th>12</th>\n",
       "      <td>Irrelevante</td>\n",
       "      <td>rt @misaxxl: corona virus vai com calma pq eu ...</td>\n",
       "      <td>Relevante</td>\n",
       "    </tr>\n",
       "    <tr>\n",
       "      <th>13</th>\n",
       "      <td>Irrelevante</td>\n",
       "      <td>rt @_daniport: corona virus pega quem acha que...</td>\n",
       "      <td>Relevante</td>\n",
       "    </tr>\n",
       "    <tr>\n",
       "      <th>14</th>\n",
       "      <td>Irrelevante</td>\n",
       "      <td>@g1 @sandracoh kkkkkkkk ninguém quer ir para l...</td>\n",
       "      <td>Relevante</td>\n",
       "    </tr>\n",
       "    <tr>\n",
       "      <th>15</th>\n",
       "      <td>Irrelevante</td>\n",
       "      <td>parem de ter corona vírus 🙏🏿🙏🏿😭🙏🏿😭🙏🏿😭🙏🏿😭 https...</td>\n",
       "      <td>Relevante</td>\n",
       "    </tr>\n",
       "    <tr>\n",
       "      <th>16</th>\n",
       "      <td>Relevante</td>\n",
       "      <td>rt @coronavirustime: uberlândia - mg confirma ...</td>\n",
       "      <td>Relevante</td>\n",
       "    </tr>\n",
       "    <tr>\n",
       "      <th>17</th>\n",
       "      <td>Relevante</td>\n",
       "      <td>rt @eyderfigueiredo: não pensem que o único pr...</td>\n",
       "      <td>Relevante</td>\n",
       "    </tr>\n",
       "    <tr>\n",
       "      <th>18</th>\n",
       "      <td>Irrelevante</td>\n",
       "      <td>rt @damianoo09: não tenho medo do corona, já p...</td>\n",
       "      <td>Relevante</td>\n",
       "    </tr>\n",
       "    <tr>\n",
       "      <th>19</th>\n",
       "      <td>Irrelevante</td>\n",
       "      <td>mapa do corona com números em tempo real no mu...</td>\n",
       "      <td>Relevante</td>\n",
       "    </tr>\n",
       "    <tr>\n",
       "      <th>20</th>\n",
       "      <td>Irrelevante</td>\n",
       "      <td>rt @gabtavaares: só quer perder aula quem tá n...</td>\n",
       "      <td>Relevante</td>\n",
       "    </tr>\n",
       "    <tr>\n",
       "      <th>21</th>\n",
       "      <td>Relevante</td>\n",
       "      <td>@folha esse povo só terá consciência quando co...</td>\n",
       "      <td>Relevante</td>\n",
       "    </tr>\n",
       "    <tr>\n",
       "      <th>22</th>\n",
       "      <td>Relevante</td>\n",
       "      <td>marido da minha prima foi diagnosticado c coro...</td>\n",
       "      <td>Relevante</td>\n",
       "    </tr>\n",
       "    <tr>\n",
       "      <th>23</th>\n",
       "      <td>Irrelevante</td>\n",
       "      <td>rt @jairsoncardosoo: não sei o que é pior, vib...</td>\n",
       "      <td>Relevante</td>\n",
       "    </tr>\n",
       "    <tr>\n",
       "      <th>24</th>\n",
       "      <td>Irrelevante</td>\n",
       "      <td>rt @mahagess: o corona virus desde que chegou ...</td>\n",
       "      <td>Relevante</td>\n",
       "    </tr>\n",
       "    <tr>\n",
       "      <th>25</th>\n",
       "      <td>Relevante</td>\n",
       "      <td>vai morrer muita gente antes que atitudes seja...</td>\n",
       "      <td>Relevante</td>\n",
       "    </tr>\n",
       "    <tr>\n",
       "      <th>26</th>\n",
       "      <td>Irrelevante</td>\n",
       "      <td>rt @vincentvanglock: pq cancelaram as aulas a ...</td>\n",
       "      <td>Relevante</td>\n",
       "    </tr>\n",
       "    <tr>\n",
       "      <th>27</th>\n",
       "      <td>Irrelevante</td>\n",
       "      <td>@vitoriacarai sobrevivi ao pt, corona pra mim ...</td>\n",
       "      <td>Relevante</td>\n",
       "    </tr>\n",
       "    <tr>\n",
       "      <th>28</th>\n",
       "      <td>Irrelevante</td>\n",
       "      <td>pessoa com gripe:\\n\\n-nossa eu estou morrendo ...</td>\n",
       "      <td>Relevante</td>\n",
       "    </tr>\n",
       "    <tr>\n",
       "      <th>29</th>\n",
       "      <td>Relevante</td>\n",
       "      <td>rt @harianameinke: pugliesi, a irmã dela, pret...</td>\n",
       "      <td>Relevante</td>\n",
       "    </tr>\n",
       "    <tr>\n",
       "      <th>30</th>\n",
       "      <td>Irrelevante</td>\n",
       "      <td>primerio dia de home office e só queria deixar...</td>\n",
       "      <td>Relevante</td>\n",
       "    </tr>\n",
       "    <tr>\n",
       "      <th>31</th>\n",
       "      <td>Irrelevante</td>\n",
       "      <td>rt @peperan: se calhar, o corona vírus veio cá...</td>\n",
       "      <td>Relevante</td>\n",
       "    </tr>\n",
       "    <tr>\n",
       "      <th>32</th>\n",
       "      <td>Relevante</td>\n",
       "      <td>pra quem é hiperativo esse corona vírus tá sen...</td>\n",
       "      <td>Relevante</td>\n",
       "    </tr>\n",
       "    <tr>\n",
       "      <th>33</th>\n",
       "      <td>Irrelevante</td>\n",
       "      <td>ai, esse negocio do corona vírus aí, não pode ...</td>\n",
       "      <td>Relevante</td>\n",
       "    </tr>\n",
       "    <tr>\n",
       "      <th>34</th>\n",
       "      <td>Relevante</td>\n",
       "      <td>rt @gmonteirorj: são paulo registra a primeira...</td>\n",
       "      <td>Relevante</td>\n",
       "    </tr>\n",
       "    <tr>\n",
       "      <th>35</th>\n",
       "      <td>Irrelevante</td>\n",
       "      <td>@camismila2 mas e o corona virus????</td>\n",
       "      <td>Relevante</td>\n",
       "    </tr>\n",
       "    <tr>\n",
       "      <th>36</th>\n",
       "      <td>Irrelevante</td>\n",
       "      <td>rt @cauemoura: essa fanfic do \"peguei corona d...</td>\n",
       "      <td>Relevante</td>\n",
       "    </tr>\n",
       "    <tr>\n",
       "      <th>37</th>\n",
       "      <td>Irrelevante</td>\n",
       "      <td>vou ficar quentinha em casa, até essa porra de...</td>\n",
       "      <td>Relevante</td>\n",
       "    </tr>\n",
       "    <tr>\n",
       "      <th>38</th>\n",
       "      <td>Irrelevante</td>\n",
       "      <td>rt @jhowsiel: bom dia meu brasil paralisado pe...</td>\n",
       "      <td>Relevante</td>\n",
       "    </tr>\n",
       "    <tr>\n",
       "      <th>39</th>\n",
       "      <td>Irrelevante</td>\n",
       "      <td>rt @callmell0: se o daniel tivesse aqui fora e...</td>\n",
       "      <td>Relevante</td>\n",
       "    </tr>\n",
       "    <tr>\n",
       "      <th>40</th>\n",
       "      <td>Relevante</td>\n",
       "      <td>na moral, não aguento mais esse negócio de cor...</td>\n",
       "      <td>Relevante</td>\n",
       "    </tr>\n",
       "    <tr>\n",
       "      <th>41</th>\n",
       "      <td>Irrelevante</td>\n",
       "      <td>em tempos de corona vírus, beijar na boca é pr...</td>\n",
       "      <td>Relevante</td>\n",
       "    </tr>\n",
       "    <tr>\n",
       "      <th>42</th>\n",
       "      <td>Relevante</td>\n",
       "      <td>rt @trizpacto: por precaução ao corona vírus n...</td>\n",
       "      <td>Relevante</td>\n",
       "    </tr>\n",
       "    <tr>\n",
       "      <th>43</th>\n",
       "      <td>Relevante</td>\n",
       "      <td>rt @onubrasil: esses são os 7 passos simples p...</td>\n",
       "      <td>Relevante</td>\n",
       "    </tr>\n",
       "    <tr>\n",
       "      <th>44</th>\n",
       "      <td>Irrelevante</td>\n",
       "      <td>rt @matheusrmd: realidade: o apelido dela fora...</td>\n",
       "      <td>Relevante</td>\n",
       "    </tr>\n",
       "    <tr>\n",
       "      <th>45</th>\n",
       "      <td>Irrelevante</td>\n",
       "      <td>rt @_wllcrf_: corona virus que lute, mas essa ...</td>\n",
       "      <td>Relevante</td>\n",
       "    </tr>\n",
       "    <tr>\n",
       "      <th>46</th>\n",
       "      <td>Irrelevante</td>\n",
       "      <td>rt @tkngsatellites: a matéria acumulada chegan...</td>\n",
       "      <td>Relevante</td>\n",
       "    </tr>\n",
       "    <tr>\n",
       "      <th>47</th>\n",
       "      <td>Irrelevante</td>\n",
       "      <td>sim eu fiz um homewod parabéns corona vc vence...</td>\n",
       "      <td>Relevante</td>\n",
       "    </tr>\n",
       "    <tr>\n",
       "      <th>48</th>\n",
       "      <td>Relevante</td>\n",
       "      <td>rt @bilobrovec: amigos acabei de ver no jornal...</td>\n",
       "      <td>Relevante</td>\n",
       "    </tr>\n",
       "    <tr>\n",
       "      <th>49</th>\n",
       "      <td>Irrelevante</td>\n",
       "      <td>a rainha elizabeth indo pro castelo de windsor...</td>\n",
       "      <td>Relevante</td>\n",
       "    </tr>\n",
       "  </tbody>\n",
       "</table>\n",
       "</div>"
      ],
      "text/plain": [
       "     Relevância                                           Mensagem  \\\n",
       "0     Relevante  rt @joaopauloz_: saber que algumas pessoas com...   \n",
       "1   Irrelevante  rt @thewayjane: se a campeã não sair daqui o c...   \n",
       "2     Relevante  na espanha tá feio o corona, tenho medo de que...   \n",
       "3   Irrelevante  rt @george_fredson: dos mesmos criadores de \"a...   \n",
       "4   Irrelevante  as primeiras que vão pega corona vírus aqui na...   \n",
       "5   Irrelevante  rt @anaalu1313: q ódio desse corona vairus put...   \n",
       "6     Relevante  rt @lc_juh: em época de corona vírus trago diá...   \n",
       "7   Irrelevante  os dente tudo podre nojento a pele escamando s...   \n",
       "8     Relevante  rt @marcospiu_: corona vírus 🦠 \\n\\n-mais de 70...   \n",
       "9   Irrelevante  @pedroneves_ @merinho_show @lucas_banks_ @dieg...   \n",
       "10  Irrelevante  rt @marfonsn: acabei de ouvir que o corona vír...   \n",
       "11    Relevante  eu vendo uma idosa vindo visitar minha avó que...   \n",
       "12  Irrelevante  rt @misaxxl: corona virus vai com calma pq eu ...   \n",
       "13  Irrelevante  rt @_daniport: corona virus pega quem acha que...   \n",
       "14  Irrelevante  @g1 @sandracoh kkkkkkkk ninguém quer ir para l...   \n",
       "15  Irrelevante  parem de ter corona vírus 🙏🏿🙏🏿😭🙏🏿😭🙏🏿😭🙏🏿😭 https...   \n",
       "16    Relevante  rt @coronavirustime: uberlândia - mg confirma ...   \n",
       "17    Relevante  rt @eyderfigueiredo: não pensem que o único pr...   \n",
       "18  Irrelevante  rt @damianoo09: não tenho medo do corona, já p...   \n",
       "19  Irrelevante  mapa do corona com números em tempo real no mu...   \n",
       "20  Irrelevante  rt @gabtavaares: só quer perder aula quem tá n...   \n",
       "21    Relevante  @folha esse povo só terá consciência quando co...   \n",
       "22    Relevante  marido da minha prima foi diagnosticado c coro...   \n",
       "23  Irrelevante  rt @jairsoncardosoo: não sei o que é pior, vib...   \n",
       "24  Irrelevante  rt @mahagess: o corona virus desde que chegou ...   \n",
       "25    Relevante  vai morrer muita gente antes que atitudes seja...   \n",
       "26  Irrelevante  rt @vincentvanglock: pq cancelaram as aulas a ...   \n",
       "27  Irrelevante  @vitoriacarai sobrevivi ao pt, corona pra mim ...   \n",
       "28  Irrelevante  pessoa com gripe:\\n\\n-nossa eu estou morrendo ...   \n",
       "29    Relevante  rt @harianameinke: pugliesi, a irmã dela, pret...   \n",
       "30  Irrelevante  primerio dia de home office e só queria deixar...   \n",
       "31  Irrelevante  rt @peperan: se calhar, o corona vírus veio cá...   \n",
       "32    Relevante  pra quem é hiperativo esse corona vírus tá sen...   \n",
       "33  Irrelevante  ai, esse negocio do corona vírus aí, não pode ...   \n",
       "34    Relevante  rt @gmonteirorj: são paulo registra a primeira...   \n",
       "35  Irrelevante               @camismila2 mas e o corona virus????   \n",
       "36  Irrelevante  rt @cauemoura: essa fanfic do \"peguei corona d...   \n",
       "37  Irrelevante  vou ficar quentinha em casa, até essa porra de...   \n",
       "38  Irrelevante  rt @jhowsiel: bom dia meu brasil paralisado pe...   \n",
       "39  Irrelevante  rt @callmell0: se o daniel tivesse aqui fora e...   \n",
       "40    Relevante  na moral, não aguento mais esse negócio de cor...   \n",
       "41  Irrelevante  em tempos de corona vírus, beijar na boca é pr...   \n",
       "42    Relevante  rt @trizpacto: por precaução ao corona vírus n...   \n",
       "43    Relevante  rt @onubrasil: esses são os 7 passos simples p...   \n",
       "44  Irrelevante  rt @matheusrmd: realidade: o apelido dela fora...   \n",
       "45  Irrelevante  rt @_wllcrf_: corona virus que lute, mas essa ...   \n",
       "46  Irrelevante  rt @tkngsatellites: a matéria acumulada chegan...   \n",
       "47  Irrelevante  sim eu fiz um homewod parabéns corona vc vence...   \n",
       "48    Relevante  rt @bilobrovec: amigos acabei de ver no jornal...   \n",
       "49  Irrelevante  a rainha elizabeth indo pro castelo de windsor...   \n",
       "\n",
       "   Classificação Treinamento  \n",
       "0                  Relevante  \n",
       "1                  Relevante  \n",
       "2                  Relevante  \n",
       "3                  Relevante  \n",
       "4                  Relevante  \n",
       "5                  Relevante  \n",
       "6                  Relevante  \n",
       "7                  Relevante  \n",
       "8                  Relevante  \n",
       "9                  Relevante  \n",
       "10                 Relevante  \n",
       "11                 Relevante  \n",
       "12                 Relevante  \n",
       "13                 Relevante  \n",
       "14                 Relevante  \n",
       "15                 Relevante  \n",
       "16                 Relevante  \n",
       "17                 Relevante  \n",
       "18                 Relevante  \n",
       "19                 Relevante  \n",
       "20                 Relevante  \n",
       "21                 Relevante  \n",
       "22                 Relevante  \n",
       "23                 Relevante  \n",
       "24                 Relevante  \n",
       "25                 Relevante  \n",
       "26                 Relevante  \n",
       "27                 Relevante  \n",
       "28                 Relevante  \n",
       "29                 Relevante  \n",
       "30                 Relevante  \n",
       "31                 Relevante  \n",
       "32                 Relevante  \n",
       "33                 Relevante  \n",
       "34                 Relevante  \n",
       "35                 Relevante  \n",
       "36                 Relevante  \n",
       "37                 Relevante  \n",
       "38                 Relevante  \n",
       "39                 Relevante  \n",
       "40                 Relevante  \n",
       "41                 Relevante  \n",
       "42                 Relevante  \n",
       "43                 Relevante  \n",
       "44                 Relevante  \n",
       "45                 Relevante  \n",
       "46                 Relevante  \n",
       "47                 Relevante  \n",
       "48                 Relevante  \n",
       "49                 Relevante  "
      ]
     },
     "execution_count": 106,
     "metadata": {},
     "output_type": "execute_result"
    }
   ],
   "source": [
    "# Teste do Classificador com dados do Treinamento\n",
    "resultado = []\n",
    "for i in range(len(dados.Mensagem)):\n",
    "    resultado.append(Classificador(calcula_probabilidades(dados.Mensagem[i], P_relevante, P_irrelevante)))\n",
    "\n",
    "dados['Classificação Treinamento'] = resultado\n",
    "dados.head(50)"
   ]
  },
  {
   "cell_type": "code",
   "execution_count": 107,
   "metadata": {},
   "outputs": [
    {
     "name": "stdout",
     "output_type": "stream",
     "text": [
      "Relevante\n"
     ]
    }
   ],
   "source": [
    "x = dados['Classificação Treinamento'][1]\n",
    "print(x)"
   ]
  },
  {
   "cell_type": "code",
   "execution_count": 108,
   "metadata": {},
   "outputs": [
    {
     "name": "stdout",
     "output_type": "stream",
     "text": [
      "250\n",
      "250\n"
     ]
    }
   ],
   "source": [
    "acertou = 0\n",
    "errou = 0\n",
    "\n",
    "for i in range(0,len(dados['Relevância'])):\n",
    "    if dados['Relevância'][i] == dados['Classificação Treinamento'][i]:\n",
    "        acertou += 1\n",
    "    else:\n",
    "        errou += 1\n",
    "    \n",
    "print(acertou)\n",
    "print(errou)"
   ]
  },
  {
   "cell_type": "markdown",
   "metadata": {},
   "source": [
    "___\n",
    "### Verificando a performance do Classificador\n",
    "\n",
    "Agora você deve testar o seu classificador com a base de Testes."
   ]
  },
  {
   "cell_type": "code",
   "execution_count": null,
   "metadata": {},
   "outputs": [],
   "source": []
  },
  {
   "cell_type": "code",
   "execution_count": null,
   "metadata": {},
   "outputs": [],
   "source": []
  },
  {
   "cell_type": "code",
   "execution_count": null,
   "metadata": {},
   "outputs": [],
   "source": []
  },
  {
   "cell_type": "code",
   "execution_count": null,
   "metadata": {},
   "outputs": [],
   "source": []
  },
  {
   "cell_type": "markdown",
   "metadata": {},
   "source": [
    "___\n",
    "### Concluindo"
   ]
  },
  {
   "cell_type": "code",
   "execution_count": null,
   "metadata": {},
   "outputs": [],
   "source": []
  },
  {
   "cell_type": "code",
   "execution_count": null,
   "metadata": {},
   "outputs": [],
   "source": []
  },
  {
   "cell_type": "markdown",
   "metadata": {},
   "source": [
    "___\n",
    "## Aperfeiçoamento:\n",
    "\n",
    "Os trabalhos vão evoluir em conceito dependendo da quantidade de itens avançados:\n",
    "\n",
    "* Limpar: \\n, :, \", ', (, ), etc SEM remover emojis\n",
    "* Corrigir separação de espaços entre palavras e emojis ou entre emojis e emojis\n",
    "* Propor outras limpezas e transformações que não afetem a qualidade da informação ou classificação\n",
    "* Criar categorias intermediárias de relevância baseadas na probabilidade: ex.: muito relevante, relevante, neutro, irrelevante, muito irrelevante (3 categorias: C, mais categorias conta para B)\n",
    "* Explicar por que não posso usar o próprio classificador para gerar mais amostras de treinamento\n",
    "* Propor diferentes cenários para Naïve Bayes fora do contexto do projeto\n",
    "* Sugerir e explicar melhorias reais com indicações concretas de como implementar (indicar como fazer e indicar material de pesquisa)\n",
    "* Montar um dashboard que periodicamente realiza análise de sentimento e visualiza estes dados"
   ]
  },
  {
   "cell_type": "markdown",
   "metadata": {},
   "source": [
    "___\n",
    "## Referências"
   ]
  },
  {
   "cell_type": "markdown",
   "metadata": {},
   "source": [
    "[Naive Bayes and Text Classification](https://arxiv.org/pdf/1410.5329.pdf)  **Mais completo**\n",
    "\n",
    "[A practical explanation of a Naive Bayes Classifier](https://monkeylearn.com/blog/practical-explanation-naive-bayes-classifier/) **Mais simples**"
   ]
  },
  {
   "cell_type": "code",
   "execution_count": 109,
   "metadata": {},
   "outputs": [
    {
     "ename": "NameError",
     "evalue": "name 'lista_tweet_sem_rt' is not defined",
     "output_type": "error",
     "traceback": [
      "\u001b[1;31m---------------------------------------------------------------------------\u001b[0m",
      "\u001b[1;31mNameError\u001b[0m                                 Traceback (most recent call last)",
      "\u001b[1;32m<ipython-input-109-ca117ac1d23c>\u001b[0m in \u001b[0;36m<module>\u001b[1;34m\u001b[0m\n\u001b[0;32m     11\u001b[0m \u001b[0mlista_tweet_semifinal\u001b[0m\u001b[1;33m.\u001b[0m\u001b[0mremove\u001b[0m\u001b[1;33m(\u001b[0m\u001b[1;34m'o'\u001b[0m\u001b[1;33m)\u001b[0m\u001b[1;33m\u001b[0m\u001b[1;33m\u001b[0m\u001b[0m\n\u001b[0;32m     12\u001b[0m \u001b[0mlista_tweet_semifinal\u001b[0m\u001b[1;33m.\u001b[0m\u001b[0mremove\u001b[0m\u001b[1;33m(\u001b[0m\u001b[1;34m'a'\u001b[0m\u001b[1;33m)\u001b[0m\u001b[1;33m\u001b[0m\u001b[1;33m\u001b[0m\u001b[0m\n\u001b[1;32m---> 13\u001b[1;33m \u001b[0mlista_tweet_final\u001b[0m \u001b[1;33m=\u001b[0m \u001b[0mlista_tweet_sem_rt\u001b[0m\u001b[1;33m\u001b[0m\u001b[1;33m\u001b[0m\u001b[0m\n\u001b[0m\u001b[0;32m     14\u001b[0m \u001b[0mprint\u001b[0m\u001b[1;33m(\u001b[0m\u001b[0mlista_tweet_semifinal\u001b[0m\u001b[1;33m)\u001b[0m\u001b[1;33m\u001b[0m\u001b[1;33m\u001b[0m\u001b[0m\n",
      "\u001b[1;31mNameError\u001b[0m: name 'lista_tweet_sem_rt' is not defined"
     ]
    }
   ],
   "source": [
    "#Testes para limpeza\n",
    "tweet = tweets_irrelevantes.Mensagem[1]\n",
    "tweet_sem_mencoes = re.sub(\"@[A-Za-z0-9]+\",\"\", tweet) # Retirando menções\n",
    "tweet_sem_links = re.sub(r'http\\S+', '', tweet_sem_mencoes) # Retirando links\n",
    "punctuation = '[_ ! - . : ? ; @ ,]' # Sinais que serão substituidos por espaços\n",
    "pattern = re.compile(punctuation)\n",
    "tweet_sem_pontuacao = re.sub(pattern, ' ', tweet_sem_links) # Retirando sinais\n",
    "lista_tweet_semifinal = tweet_sem_pontuacao.split()\n",
    "    # Removendo itens desnecessários para a classificação (retweets - 'rt', e artigos - 'a','o','as','os')\\\n",
    "lista_tweet_semifinal.remove('rt')\n",
    "lista_tweet_semifinal.remove('o')\n",
    "lista_tweet_semifinal.remove('a')\n",
    "lista_tweet_final = lista_tweet_sem_rt\n",
    "print(lista_tweet_semifinal)"
   ]
  }
 ],
 "metadata": {
  "kernelspec": {
   "display_name": "Python 3",
   "language": "python",
   "name": "python3"
  },
  "language_info": {
   "codemirror_mode": {
    "name": "ipython",
    "version": 3
   },
   "file_extension": ".py",
   "mimetype": "text/x-python",
   "name": "python",
   "nbconvert_exporter": "python",
   "pygments_lexer": "ipython3",
   "version": "3.7.3"
  }
 },
 "nbformat": 4,
 "nbformat_minor": 4
}
