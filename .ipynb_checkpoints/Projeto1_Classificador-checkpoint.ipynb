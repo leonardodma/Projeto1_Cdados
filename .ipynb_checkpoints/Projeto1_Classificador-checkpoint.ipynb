{
 "cells": [
  {
   "cell_type": "markdown",
   "metadata": {},
   "source": [
    "# Projeto 1 - Ciência dos Dados"
   ]
  },
  {
   "cell_type": "markdown",
   "metadata": {},
   "source": [
    "#### Nome: Andresa Bicudo\n",
    "\n",
    "#### Nome: Leonardo Malta"
   ]
  },
  {
   "cell_type": "markdown",
   "metadata": {},
   "source": [
    "Atenção: Serão permitidos grupos de três pessoas, mas com uma rubrica mais exigente. Grupos deste tamanho precisarão fazer um questionário de avaliação de trabalho em equipe"
   ]
  },
  {
   "cell_type": "markdown",
   "metadata": {},
   "source": [
    "___\n",
    "Carregando algumas bibliotecas:"
   ]
  },
  {
   "cell_type": "code",
   "execution_count": 78,
   "metadata": {},
   "outputs": [],
   "source": [
    "# Importanto bibliotecas\n",
    "\n",
    "%matplotlib inline\n",
    "import pandas as pd\n",
    "import matplotlib.pyplot as plt\n",
    "import numpy as np\n",
    "import os\n",
    "import re "
   ]
  },
  {
   "cell_type": "code",
   "execution_count": 79,
   "metadata": {
    "scrolled": false
   },
   "outputs": [
    {
     "name": "stdout",
     "output_type": "stream",
     "text": [
      "Esperamos trabalhar no diretório\n",
      "C:\\Users\\user\\Documents\\Insper\\2° semestre\\CDados\\Projetos\\Projeto1_Cdados\n"
     ]
    }
   ],
   "source": [
    "print('Esperamos trabalhar no diretório')\n",
    "print(os.getcwd())"
   ]
  },
  {
   "cell_type": "markdown",
   "metadata": {},
   "source": [
    "Carregando a base de dados com os tweets classificados como relevantes e não relevantes:"
   ]
  },
  {
   "cell_type": "code",
   "execution_count": 80,
   "metadata": {},
   "outputs": [],
   "source": [
    "dados = pd.read_excel('Corona.xlsx')"
   ]
  },
  {
   "cell_type": "code",
   "execution_count": 81,
   "metadata": {},
   "outputs": [
    {
     "data": {
      "text/html": [
       "<div>\n",
       "<style scoped>\n",
       "    .dataframe tbody tr th:only-of-type {\n",
       "        vertical-align: middle;\n",
       "    }\n",
       "\n",
       "    .dataframe tbody tr th {\n",
       "        vertical-align: top;\n",
       "    }\n",
       "\n",
       "    .dataframe thead th {\n",
       "        text-align: right;\n",
       "    }\n",
       "</style>\n",
       "<table border=\"1\" class=\"dataframe\">\n",
       "  <thead>\n",
       "    <tr style=\"text-align: right;\">\n",
       "      <th></th>\n",
       "      <th>Relevância</th>\n",
       "      <th>Mensagem</th>\n",
       "    </tr>\n",
       "  </thead>\n",
       "  <tbody>\n",
       "    <tr>\n",
       "      <th>0</th>\n",
       "      <td>1</td>\n",
       "      <td>rt @joaopauloz_: saber que algumas pessoas com...</td>\n",
       "    </tr>\n",
       "    <tr>\n",
       "      <th>1</th>\n",
       "      <td>0</td>\n",
       "      <td>rt @thewayjane: se a campeã não sair daqui o c...</td>\n",
       "    </tr>\n",
       "    <tr>\n",
       "      <th>2</th>\n",
       "      <td>1</td>\n",
       "      <td>na espanha tá feio o corona, tenho medo de que...</td>\n",
       "    </tr>\n",
       "    <tr>\n",
       "      <th>3</th>\n",
       "      <td>0</td>\n",
       "      <td>rt @george_fredson: dos mesmos criadores de \"a...</td>\n",
       "    </tr>\n",
       "    <tr>\n",
       "      <th>4</th>\n",
       "      <td>0</td>\n",
       "      <td>as primeiras que vão pega corona vírus aqui na...</td>\n",
       "    </tr>\n",
       "  </tbody>\n",
       "</table>\n",
       "</div>"
      ],
      "text/plain": [
       "   Relevância                                           Mensagem\n",
       "0           1  rt @joaopauloz_: saber que algumas pessoas com...\n",
       "1           0  rt @thewayjane: se a campeã não sair daqui o c...\n",
       "2           1  na espanha tá feio o corona, tenho medo de que...\n",
       "3           0  rt @george_fredson: dos mesmos criadores de \"a...\n",
       "4           0  as primeiras que vão pega corona vírus aqui na..."
      ]
     },
     "execution_count": 81,
     "metadata": {},
     "output_type": "execute_result"
    }
   ],
   "source": [
    "dados.head(5)"
   ]
  },
  {
   "cell_type": "markdown",
   "metadata": {},
   "source": [
    "___\n",
    "## Classificador automático de sentimento\n"
   ]
  },
  {
   "cell_type": "markdown",
   "metadata": {},
   "source": [
    "#### Faça aqui uma descrição do seu tema e o que considerou como relevante ou não relevante na classificação dos tweets.\n",
    "\n",
    "Em meio a essa grande pandemia do COVID-19 (Corona Vírus), é função Ministério da Saúde auxiliar a população com informações de prevenção e de cuidados cajo haja suspeita de contaminação, logo, tweets informativos são relevantes, uma vez que se pode evitar compartilhamento de \"fake-news\" e manter as recomendações verdadeiras. Ademais, também é essencial que o governo saiba da ocorrência de eventuais eventos que promovem aglomerações e de pessoas que banalizam a situação, a fim de tomar as medidas necessárias para conter o avanço dessa doença. Por fim, como o assunto está sendo extremamente comentado, muitos memes estão sendo feitos, logo, é preciso filtrá-los, recebendo a classificação de não relevante."
   ]
  },
  {
   "cell_type": "markdown",
   "metadata": {},
   "source": [
    "___\n",
    "### Montando um Classificador Naive-Bayes\n",
    "\n",
    "Considerando apenas as mensagens da planilha Treinamento, ensine  seu classificador."
   ]
  },
  {
   "cell_type": "code",
   "execution_count": 82,
   "metadata": {},
   "outputs": [
    {
     "data": {
      "text/html": [
       "<div>\n",
       "<style scoped>\n",
       "    .dataframe tbody tr th:only-of-type {\n",
       "        vertical-align: middle;\n",
       "    }\n",
       "\n",
       "    .dataframe tbody tr th {\n",
       "        vertical-align: top;\n",
       "    }\n",
       "\n",
       "    .dataframe thead th {\n",
       "        text-align: right;\n",
       "    }\n",
       "</style>\n",
       "<table border=\"1\" class=\"dataframe\">\n",
       "  <thead>\n",
       "    <tr style=\"text-align: right;\">\n",
       "      <th></th>\n",
       "      <th>Relevância</th>\n",
       "      <th>Mensagem</th>\n",
       "    </tr>\n",
       "  </thead>\n",
       "  <tbody>\n",
       "    <tr>\n",
       "      <th>0</th>\n",
       "      <td>Relevante</td>\n",
       "      <td>rt @joaopauloz_: saber que algumas pessoas com...</td>\n",
       "    </tr>\n",
       "    <tr>\n",
       "      <th>1</th>\n",
       "      <td>Irrelevante</td>\n",
       "      <td>rt @thewayjane: se a campeã não sair daqui o c...</td>\n",
       "    </tr>\n",
       "    <tr>\n",
       "      <th>2</th>\n",
       "      <td>Relevante</td>\n",
       "      <td>na espanha tá feio o corona, tenho medo de que...</td>\n",
       "    </tr>\n",
       "    <tr>\n",
       "      <th>3</th>\n",
       "      <td>Irrelevante</td>\n",
       "      <td>rt @george_fredson: dos mesmos criadores de \"a...</td>\n",
       "    </tr>\n",
       "    <tr>\n",
       "      <th>4</th>\n",
       "      <td>Irrelevante</td>\n",
       "      <td>as primeiras que vão pega corona vírus aqui na...</td>\n",
       "    </tr>\n",
       "  </tbody>\n",
       "</table>\n",
       "</div>"
      ],
      "text/plain": [
       "    Relevância                                           Mensagem\n",
       "0    Relevante  rt @joaopauloz_: saber que algumas pessoas com...\n",
       "1  Irrelevante  rt @thewayjane: se a campeã não sair daqui o c...\n",
       "2    Relevante  na espanha tá feio o corona, tenho medo de que...\n",
       "3  Irrelevante  rt @george_fredson: dos mesmos criadores de \"a...\n",
       "4  Irrelevante  as primeiras que vão pega corona vírus aqui na..."
      ]
     },
     "execution_count": 82,
     "metadata": {},
     "output_type": "execute_result"
    }
   ],
   "source": [
    "# Transformando dados em variaveis qualitativas\n",
    "dados.loc[:,'Mensagem'] = dados['Mensagem'].astype('category')\n",
    "dados.loc[:,'Relevância'] = dados['Relevância'].astype('category')\n",
    "dados.Relevância.cat.categories = ['Irrelevante', 'Relevante']\n",
    "dados.head(5)"
   ]
  },
  {
   "cell_type": "code",
   "execution_count": 83,
   "metadata": {},
   "outputs": [
    {
     "data": {
      "text/plain": [
       "'rt @thewayjane: se a campeã não sair daqui o corona já pode cancelar o bbb #bbb20 https://t.co/z4vvf9qn66'"
      ]
     },
     "execution_count": 83,
     "metadata": {},
     "output_type": "execute_result"
    }
   ],
   "source": [
    "# Separando dados em duas tabelas: Relevantes e Irrelevantes \n",
    "tweets_relevantes = dados.loc[dados['Relevância'] == 'Relevante', :]\n",
    "tweets_irrelevantes = dados.loc[dados['Relevância'] == 'Irrelevante', :]\n",
    "\n",
    "# Teste de seperação de mensagem\n",
    "tweets_irrelevantes.Mensagem[1]"
   ]
  },
  {
   "cell_type": "code",
   "execution_count": 84,
   "metadata": {},
   "outputs": [],
   "source": [
    "# Criando listas com os índices dos Tweets relevante e irrelevantes\n",
    "lista_indices_relevantes = []\n",
    "lista_indices_irrelevantes = []\n",
    "\n",
    "for i in range(len(dados.Mensagem)):\n",
    "    if dados.Relevância[i] == 'Relevante':\n",
    "        lista_indices_relevantes.append(dados.index[i])\n",
    "    elif dados.Relevância[i] == 'Irrelevante':\n",
    "        lista_indices_irrelevantes.append(dados.index[i])"
   ]
  },
  {
   "cell_type": "code",
   "execution_count": 85,
   "metadata": {},
   "outputs": [
    {
     "name": "stdout",
     "output_type": "stream",
     "text": [
      "['rt', 'saber', 'que', 'algumas', 'pessoas', 'com', 'o', 'corona', 'vírus', 'estão', 'circulando', 'pelas', 'ruas', 'é', 'só', 'mais', 'uma', 'prova', 'da', 'depravação', 'do', 'homem', 'e', 'o', 'se…']\n"
     ]
    }
   ],
   "source": [
    "# Função de limpeza que troca alguns sinais, menções e links por espaços, e coloca em uma lista.\n",
    "# Link de consulta para fazer essa função: \n",
    "# https://stackoverflow.com/questions/54733828/remove-twitter-mentions-from-pandas-column\n",
    "\n",
    "def cleanup(tweet):\n",
    "    tweet_sem_mencoes = re.sub(\"@[A-Za-z0-9]+\",\"\", tweet) # Retirando menções\n",
    "    tweet_sem_links = re.sub(\"https[A-Za-z0-9]+\",\"\", tweet_sem_mencoes) # Retirando links\n",
    "    punctuation = '[_ ! - . : ? ; @]' # Sinais que serão substituidos por espaços\n",
    "    pattern = re.compile(punctuation)\n",
    "    tweet_final = re.sub(pattern, ' ', tweet_sem_links) # Retirando sinais\n",
    "    lista_tweet_final = tweet_final.split()\n",
    "    return lista_tweet_final\n",
    "\n",
    "# Teste do uso da função de limpeza\n",
    "my_str = cleanup(tweets_relevantes.Mensagem[0])\n",
    "print(my_str)"
   ]
  },
  {
   "cell_type": "code",
   "execution_count": 93,
   "metadata": {},
   "outputs": [],
   "source": [
    "# Colocando todas a palavras relevantes em uma lista, usando a lista de índices criadas anteriormente:\n",
    "todas_palavras_relevantes = []\n",
    "todas_palavras_irrelevantes = []\n",
    "\n",
    "for i in range(len(lista_indices_relevantes)):\n",
    "    todas_palavras_relevantes.append(cleanup(tweets_relevantes.Mensagem[lista_indices_relevantes[i]]))\n",
    "\n",
    "for p in range(len(lista_indices_irrelevantes)):\n",
    "    todas_palavras_irrelevantes.append(cleanup(tweets_irrelevantes.Mensagem[lista_indices_irrelevantes[p]]))\n",
    "\n",
    "# Trasnformando uma lista de listas em uma única lista:\n",
    "palavras_relevantes = []\n",
    "palavras_irrelevantes = []\n",
    "\n",
    "def Listas2lista(listadelistas):\n",
    "    nova_lista = []\n",
    "    for sublista in listadelistas:\n",
    "        for item in sublista:\n",
    "            nova_lista.append(item)\n",
    "    return nova_lista\n",
    "\n",
    "palavras_relevantes = Listas2lista(todas_palavras_relevantes)\n",
    "palavras_irrelevantes = Listas2lista(todas_palavras_irrelevantes)\n",
    "\n",
    "palvras_relevantes_data = pd.Series(palavras_relevantes)\n",
    "palvras_irrelevantes_data = pd.Series(palavras_irrelevantes)"
   ]
  },
  {
   "cell_type": "code",
   "execution_count": 96,
   "metadata": {},
   "outputs": [
    {
     "data": {
      "text/plain": [
       "corona                         473\n",
       "o                              235\n",
       "rt                             223\n",
       "de                             189\n",
       "vírus                          160\n",
       "que                            154\n",
       "a                              142\n",
       "eu                             133\n",
       "não                            118\n",
       "e                              117\n",
       "do                             110\n",
       "com                            106\n",
       "https                           95\n",
       "//t                             94\n",
       "é                               86\n",
       "se                              70\n",
       "virus                           61\n",
       "da                              61\n",
       "pra                             54\n",
       "em                              52\n",
       "no                              51\n",
       "vai                             51\n",
       "por                             45\n",
       "esse                            44\n",
       "minha                           42\n",
       "tá                              42\n",
       "um                              40\n",
       "q                               40\n",
       "só                              39\n",
       "na                              38\n",
       "                              ... \n",
       "sla                              1\n",
       "demorando                        1\n",
       "querido                          1\n",
       "botafogo                         1\n",
       "lave                             1\n",
       "escamando                        1\n",
       "jiraya                           1\n",
       "máscara,                         1\n",
       "co/od7mpkefep                    1\n",
       "rápidin                          1\n",
       "fechando                         1\n",
       "falsaaaa                         1\n",
       "daniport                         1\n",
       "deix…                            1\n",
       "co/6ubvfashug                    1\n",
       "co/opxrluzp8p                    1\n",
       "gostosas                         1\n",
       "kkkkkkkkkkkkkkkk                 1\n",
       "invejosa                         1\n",
       "suficiente                       1\n",
       "irmã                             1\n",
       "mds                              1\n",
       "date                             1\n",
       "co/c7hymqtljs                    1\n",
       "mai                              1\n",
       "fofoqueiras,                     1\n",
       "planalto                         1\n",
       "sobreviver                       1\n",
       "piong----------------corona      1\n",
       "ambos                            1\n",
       "Length: 2283, dtype: int64"
      ]
     },
     "execution_count": 96,
     "metadata": {},
     "output_type": "execute_result"
    }
   ],
   "source": [
    "# Tabela de frequências absolutas:\n",
    "tabela_relevantes = palvras_relevantes_data.value_counts()\n",
    "tabela_irrelevantes = palvras_irrelevantes_data.value_counts()\n",
    "tabela_irrelevantes"
   ]
  },
  {
   "cell_type": "markdown",
   "metadata": {},
   "source": [
    "___\n",
    "### Verificando a performance do Classificador\n",
    "\n",
    "Agora você deve testar o seu classificador com a base de Testes."
   ]
  },
  {
   "cell_type": "code",
   "execution_count": null,
   "metadata": {},
   "outputs": [],
   "source": []
  },
  {
   "cell_type": "code",
   "execution_count": null,
   "metadata": {},
   "outputs": [],
   "source": []
  },
  {
   "cell_type": "code",
   "execution_count": null,
   "metadata": {},
   "outputs": [],
   "source": []
  },
  {
   "cell_type": "markdown",
   "metadata": {},
   "source": [
    "___\n",
    "### Concluindo"
   ]
  },
  {
   "cell_type": "code",
   "execution_count": null,
   "metadata": {},
   "outputs": [],
   "source": []
  },
  {
   "cell_type": "code",
   "execution_count": null,
   "metadata": {},
   "outputs": [],
   "source": []
  },
  {
   "cell_type": "markdown",
   "metadata": {},
   "source": [
    "___\n",
    "## Aperfeiçoamento:\n",
    "\n",
    "Os trabalhos vão evoluir em conceito dependendo da quantidade de itens avançados:\n",
    "\n",
    "* Limpar: \\n, :, \", ', (, ), etc SEM remover emojis\n",
    "* Corrigir separação de espaços entre palavras e emojis ou entre emojis e emojis\n",
    "* Propor outras limpezas e transformações que não afetem a qualidade da informação ou classificação\n",
    "* Criar categorias intermediárias de relevância baseadas na probabilidade: ex.: muito relevante, relevante, neutro, irrelevante, muito irrelevante (3 categorias: C, mais categorias conta para B)\n",
    "* Explicar por que não posso usar o próprio classificador para gerar mais amostras de treinamento\n",
    "* Propor diferentes cenários para Naïve Bayes fora do contexto do projeto\n",
    "* Sugerir e explicar melhorias reais com indicações concretas de como implementar (indicar como fazer e indicar material de pesquisa)\n",
    "* Montar um dashboard que periodicamente realiza análise de sentimento e visualiza estes dados"
   ]
  },
  {
   "cell_type": "markdown",
   "metadata": {},
   "source": [
    "___\n",
    "## Referências"
   ]
  },
  {
   "cell_type": "markdown",
   "metadata": {},
   "source": [
    "[Naive Bayes and Text Classification](https://arxiv.org/pdf/1410.5329.pdf)  **Mais completo**\n",
    "\n",
    "[A practical explanation of a Naive Bayes Classifier](https://monkeylearn.com/blog/practical-explanation-naive-bayes-classifier/) **Mais simples**"
   ]
  },
  {
   "cell_type": "code",
   "execution_count": null,
   "metadata": {},
   "outputs": [],
   "source": []
  }
 ],
 "metadata": {
  "kernelspec": {
   "display_name": "Python 3",
   "language": "python",
   "name": "python3"
  },
  "language_info": {
   "codemirror_mode": {
    "name": "ipython",
    "version": 3
   },
   "file_extension": ".py",
   "mimetype": "text/x-python",
   "name": "python",
   "nbconvert_exporter": "python",
   "pygments_lexer": "ipython3",
   "version": "3.7.3"
  }
 },
 "nbformat": 4,
 "nbformat_minor": 4
}
