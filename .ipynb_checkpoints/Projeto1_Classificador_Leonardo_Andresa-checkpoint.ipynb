{
 "cells": [
  {
   "cell_type": "markdown",
   "metadata": {},
   "source": [
    "# Projeto 1 - Ciência dos Dados"
   ]
  },
  {
   "cell_type": "markdown",
   "metadata": {},
   "source": [
    "#### Nome: Andresa Bicudo\n",
    "\n",
    "#### Nome: Leonardo Malta"
   ]
  },
  {
   "cell_type": "markdown",
   "metadata": {},
   "source": [
    "Atenção: Serão permitidos grupos de três pessoas, mas com uma rubrica mais exigente. Grupos deste tamanho precisarão fazer um questionário de avaliação de trabalho em equipe"
   ]
  },
  {
   "cell_type": "markdown",
   "metadata": {},
   "source": [
    "___\n",
    "Carregando algumas bibliotecas:"
   ]
  },
  {
   "cell_type": "markdown",
   "metadata": {},
   "source": [
    "### TO DO'S:\n",
    "\n",
    "- Separar emojis (de palavras e de emojis)\n",
    "- TABELA RELEVANTE ABSOLUTA + 1 / PALAVRAS RELEVANTES + PALAVRAS TOTAIS\n",
    "- tabela relevante é de todas as palavras, precisamos delas individualmente\n",
    "\n",
    "### Comentários:\n",
    "- soma das palavras dos tweets relevantes = palavras_relevantes\n",
    "- soma das palavras dos tweets irrelevantes = palavras_irrelevantes\n",
    "- $P(Relevante) =$ palavras_relevantes/palavras_totais\n",
    "- $P(Irrelevante) =$ palavras_irrelevantes/palavras_totais\n",
    "- $P(Relevante) + P(Irrelevante) = 1$\n",
    "- palavras_totais = palavras_relevantes + palavras_irrelevantes\n",
    "- $P(tweet|Relevante) = $ DADO\n",
    "- $P(tweet|Irrelevante) = $ DADO\n",
    "- $P(Relevante|tweet) = $ CLASSIFICADOR\n",
    "- $P(Irrelevante|tweet) = $ CLASSIFICADOR\n",
    "- $P(Relevante|tweet) = P(tweet|Relevante)*P(Relevante)/P(tweet)$\n",
    "- $P(Irrelevante|tweet) = P(tweet|Irrelevante)*P(Irrelevante)/P(tweet)$\n",
    "- $P(tweet)$ é a probabilidade da frase ocorrer no espaço amostral total (palavras totais) - será desconsiderada porque ambas as probabilidades medidas pelo classificador, que determinarão se o tweet é relevante ou não, serão divididas por ela. Logo, o resultado qualitativo não se alterará, embora o resukltado quantitativo (percentual se alterará)"
   ]
  },
  {
   "cell_type": "code",
   "execution_count": 4,
   "metadata": {},
   "outputs": [],
   "source": [
    "# Importanto bibliotecas\n",
    "\n",
    "%matplotlib inline\n",
    "import pandas as pd\n",
    "import matplotlib.pyplot as plt\n",
    "import numpy as np\n",
    "import os\n",
    "import re \n",
    "import functools\n",
    "import operator\n",
    "import re\n",
    "import emoji"
   ]
  },
  {
   "cell_type": "code",
   "execution_count": 5,
   "metadata": {
    "scrolled": false
   },
   "outputs": [
    {
     "name": "stdout",
     "output_type": "stream",
     "text": [
      "Esperamos trabalhar no diretório\n",
      "C:\\Users\\user\\Documents\\Insper\\2° semestre\\CDados\\Projetos\\Projeto1_Cdados\n"
     ]
    }
   ],
   "source": [
    "print('Esperamos trabalhar no diretório')\n",
    "print(os.getcwd())"
   ]
  },
  {
   "cell_type": "markdown",
   "metadata": {},
   "source": [
    "Carregando a base de dados com os tweets classificados como relevantes e não relevantes:"
   ]
  },
  {
   "cell_type": "code",
   "execution_count": 6,
   "metadata": {},
   "outputs": [],
   "source": [
    "dados = pd.read_excel('Corona.xlsx',sheet_name='Treinamento')"
   ]
  },
  {
   "cell_type": "code",
   "execution_count": 7,
   "metadata": {},
   "outputs": [
    {
     "data": {
      "text/html": [
       "<div>\n",
       "<style scoped>\n",
       "    .dataframe tbody tr th:only-of-type {\n",
       "        vertical-align: middle;\n",
       "    }\n",
       "\n",
       "    .dataframe tbody tr th {\n",
       "        vertical-align: top;\n",
       "    }\n",
       "\n",
       "    .dataframe thead th {\n",
       "        text-align: right;\n",
       "    }\n",
       "</style>\n",
       "<table border=\"1\" class=\"dataframe\">\n",
       "  <thead>\n",
       "    <tr style=\"text-align: right;\">\n",
       "      <th></th>\n",
       "      <th>Relevância</th>\n",
       "      <th>Mensagem</th>\n",
       "    </tr>\n",
       "  </thead>\n",
       "  <tbody>\n",
       "    <tr>\n",
       "      <th>495</th>\n",
       "      <td>1</td>\n",
       "      <td>bahia\\nclube coloca fazendão à disposição do g...</td>\n",
       "    </tr>\n",
       "    <tr>\n",
       "      <th>496</th>\n",
       "      <td>1</td>\n",
       "      <td>rt @clownhejhuff: 4 mortes por corona.... e o ...</td>\n",
       "    </tr>\n",
       "    <tr>\n",
       "      <th>497</th>\n",
       "      <td>1</td>\n",
       "      <td>pandemia de corona; cuide-se! #isolamento  #is...</td>\n",
       "    </tr>\n",
       "    <tr>\n",
       "      <th>498</th>\n",
       "      <td>1</td>\n",
       "      <td>rt @tito_breno: primeiro caso de corona vírus ...</td>\n",
       "    </tr>\n",
       "    <tr>\n",
       "      <th>499</th>\n",
       "      <td>1</td>\n",
       "      <td>entrei nos casos com suspeita de corona em tub...</td>\n",
       "    </tr>\n",
       "  </tbody>\n",
       "</table>\n",
       "</div>"
      ],
      "text/plain": [
       "     Relevância                                           Mensagem\n",
       "495           1  bahia\\nclube coloca fazendão à disposição do g...\n",
       "496           1  rt @clownhejhuff: 4 mortes por corona.... e o ...\n",
       "497           1  pandemia de corona; cuide-se! #isolamento  #is...\n",
       "498           1  rt @tito_breno: primeiro caso de corona vírus ...\n",
       "499           1  entrei nos casos com suspeita de corona em tub..."
      ]
     },
     "execution_count": 7,
     "metadata": {},
     "output_type": "execute_result"
    }
   ],
   "source": [
    "dados.tail(5)"
   ]
  },
  {
   "cell_type": "markdown",
   "metadata": {},
   "source": [
    "___\n",
    "## Classificador automático de sentimento\n"
   ]
  },
  {
   "cell_type": "markdown",
   "metadata": {},
   "source": [
    "#### Faça aqui uma descrição do seu tema e o que considerou como relevante ou não relevante na classificação dos tweets.\n",
    "\n",
    "Em meio a essa grande pandemia do COVID-19 (Corona Vírus), é função Ministério da Saúde auxiliar a população com informações de prevenção e de cuidados cajo haja suspeita de contaminação, logo, tweets informativos são relevantes, uma vez que se pode evitar compartilhamento de \"fake-news\" e manter as recomendações verdadeiras. Ademais, também é essencial que o governo saiba da ocorrência de eventuais eventos que promovem aglomerações e de pessoas que banalizam a situação, a fim de tomar as medidas necessárias para conter o avanço dessa doença. Por fim, como o assunto está sendo extremamente comentado, muitos memes estão sendo feitos, logo, é preciso filtrá-los, recebendo a classificação de não relevante."
   ]
  },
  {
   "cell_type": "markdown",
   "metadata": {},
   "source": [
    "___\n",
    "### Montando um Classificador Naive-Bayes\n",
    "\n",
    "Considerando apenas as mensagens da planilha Treinamento, ensine  seu classificador."
   ]
  },
  {
   "cell_type": "code",
   "execution_count": 8,
   "metadata": {},
   "outputs": [
    {
     "data": {
      "text/html": [
       "<div>\n",
       "<style scoped>\n",
       "    .dataframe tbody tr th:only-of-type {\n",
       "        vertical-align: middle;\n",
       "    }\n",
       "\n",
       "    .dataframe tbody tr th {\n",
       "        vertical-align: top;\n",
       "    }\n",
       "\n",
       "    .dataframe thead th {\n",
       "        text-align: right;\n",
       "    }\n",
       "</style>\n",
       "<table border=\"1\" class=\"dataframe\">\n",
       "  <thead>\n",
       "    <tr style=\"text-align: right;\">\n",
       "      <th></th>\n",
       "      <th>Relevância</th>\n",
       "      <th>Mensagem</th>\n",
       "    </tr>\n",
       "  </thead>\n",
       "  <tbody>\n",
       "    <tr>\n",
       "      <th>0</th>\n",
       "      <td>Relevante</td>\n",
       "      <td>rt @joaopauloz_: saber que algumas pessoas com...</td>\n",
       "    </tr>\n",
       "    <tr>\n",
       "      <th>1</th>\n",
       "      <td>Irrelevante</td>\n",
       "      <td>rt @thewayjane: se a campeã não sair daqui o c...</td>\n",
       "    </tr>\n",
       "    <tr>\n",
       "      <th>2</th>\n",
       "      <td>Relevante</td>\n",
       "      <td>na espanha tá feio o corona, tenho medo de que...</td>\n",
       "    </tr>\n",
       "    <tr>\n",
       "      <th>3</th>\n",
       "      <td>Irrelevante</td>\n",
       "      <td>rt @george_fredson: dos mesmos criadores de \"a...</td>\n",
       "    </tr>\n",
       "    <tr>\n",
       "      <th>4</th>\n",
       "      <td>Irrelevante</td>\n",
       "      <td>as primeiras que vão pega corona vírus aqui na...</td>\n",
       "    </tr>\n",
       "  </tbody>\n",
       "</table>\n",
       "</div>"
      ],
      "text/plain": [
       "    Relevância                                           Mensagem\n",
       "0    Relevante  rt @joaopauloz_: saber que algumas pessoas com...\n",
       "1  Irrelevante  rt @thewayjane: se a campeã não sair daqui o c...\n",
       "2    Relevante  na espanha tá feio o corona, tenho medo de que...\n",
       "3  Irrelevante  rt @george_fredson: dos mesmos criadores de \"a...\n",
       "4  Irrelevante  as primeiras que vão pega corona vírus aqui na..."
      ]
     },
     "execution_count": 8,
     "metadata": {},
     "output_type": "execute_result"
    }
   ],
   "source": [
    "# Transformando dados em variaveis qualitativas\n",
    "dados.loc[:,'Mensagem'] = dados['Mensagem'].astype('category')\n",
    "dados.loc[:,'Relevância'] = dados['Relevância'].astype('category')\n",
    "dados.Relevância.cat.categories = ['Irrelevante', 'Relevante']\n",
    "dados.head(5)"
   ]
  },
  {
   "cell_type": "code",
   "execution_count": 9,
   "metadata": {},
   "outputs": [
    {
     "data": {
      "text/plain": [
       "'rt @thewayjane: se a campeã não sair daqui o corona já pode cancelar o bbb #bbb20 https://t.co/z4vvf9qn66'"
      ]
     },
     "execution_count": 9,
     "metadata": {},
     "output_type": "execute_result"
    }
   ],
   "source": [
    "# Separando dados em duas tabelas: Relevantes e Irrelevantes \n",
    "tweets_relevantes = dados.loc[dados['Relevância'] == 'Relevante', :]\n",
    "tweets_irrelevantes = dados.loc[dados['Relevância'] == 'Irrelevante', :]\n",
    "\n",
    "# Teste de separação de mensagem\n",
    "tweets_irrelevantes.Mensagem[1]"
   ]
  },
  {
   "cell_type": "code",
   "execution_count": 10,
   "metadata": {},
   "outputs": [],
   "source": [
    "# Criando listas com os índices dos Tweets relevante e irrelevantes\n",
    "lista_indices_relevantes = []\n",
    "lista_indices_irrelevantes = []\n",
    "\n",
    "for i in range(len(dados.Mensagem)):\n",
    "    if dados.Relevância[i] == 'Relevante':\n",
    "        lista_indices_relevantes.append(dados.index[i])\n",
    "    elif dados.Relevância[i] == 'Irrelevante':\n",
    "        lista_indices_irrelevantes.append(dados.index[i])"
   ]
  },
  {
   "cell_type": "code",
   "execution_count": 11,
   "metadata": {},
   "outputs": [
    {
     "name": "stdout",
     "output_type": "stream",
     "text": [
      "['se', 'campeã', 'não', 'sair', 'daqui', 'corona', 'já', 'pode', 'cancelar', 'bbb', 'bbb20']\n"
     ]
    }
   ],
   "source": [
    "# Função de limpeza que troca alguns sinais, menções e links por espaços, e coloca em uma lista.\n",
    "# Links de consulta para fazer essa função: \n",
    "# https://stackoverflow.com/questions/54733828/remove-twitter-mentions-from-pandas-column\n",
    "# https://stackoverflow.com/questions/49921720/how-to-split-emoji-from-each-other-python\n",
    "# https://stackoverflow.com/questions/12309976/how-do-i-convert-a-list-into-a-string-with-spaces-in-python\n",
    "\n",
    "def separador_emojis(string):\n",
    "    string_split_emoji = emoji.get_emoji_regexp().split(string)\n",
    "    string_split_whitespace = [substr.split() for substr in string_split_emoji]\n",
    "    string_split = functools.reduce(operator.concat, string_split_whitespace)\n",
    "    emoji_separados = \" \".join(string_split)\n",
    "    \n",
    "    return emoji_separados\n",
    "\n",
    "def cleanup(tweet):\n",
    "    tweet_sem_mencoes = re.sub(\"@[A-Za-z0-9_]+\",\"\", tweet) # Retirando menções\n",
    "    tweet_sem_links = re.sub(r'http\\S+', '', tweet_sem_mencoes) # Retirando links\n",
    "    punctuation = '[_ ! - . : ? ; @ , # / \" * ( )]' # Sinais que serão substituidos por espaços\n",
    "    pattern = re.compile(punctuation)\n",
    "    tweet_sem_pontuacao = re.sub(pattern, ' ', tweet_sem_links) # Retirando sinais\n",
    "    tweet_emojis_separados = separador_emojis(tweet_sem_pontuacao)\n",
    "    lista_tweet_semifinal = tweet_emojis_separados.split()\n",
    "    \n",
    "    # Removendo itens desnecessários para a classificação (retweets - 'rt', e artigos - 'a','o','as','os')\\\n",
    "    itens_desnecessarios = ['rt','a','o','as','os']  \n",
    "    for item in itens_desnecessarios:\n",
    "        for palavra in lista_tweet_semifinal:\n",
    "            if palavra == item:\n",
    "                lista_tweet_semifinal.remove(palavra)\n",
    "                \n",
    "    lista_tweet_final = lista_tweet_semifinal\n",
    "    return lista_tweet_final\n",
    "\n",
    "# Teste do uso da função de limpeza\n",
    "my_str = cleanup(tweets_irrelevantes.Mensagem[1])\n",
    "print(my_str)"
   ]
  },
  {
   "cell_type": "code",
   "execution_count": 12,
   "metadata": {},
   "outputs": [],
   "source": [
    "# Colocando todas a palavras relevantes em uma lista, usando a lista de índices criadas anteriormente:\n",
    "todas_palavras_relevantes = []\n",
    "todas_palavras_irrelevantes = []\n",
    "\n",
    "for i in range(len(lista_indices_relevantes)):\n",
    "    todas_palavras_relevantes.append(cleanup(tweets_relevantes.Mensagem[lista_indices_relevantes[i]]))\n",
    "\n",
    "for p in range(len(lista_indices_irrelevantes)):\n",
    "    todas_palavras_irrelevantes.append(cleanup(tweets_irrelevantes.Mensagem[lista_indices_irrelevantes[p]]))\n",
    "\n",
    "# Trasnformando uma lista de listas em uma única lista:\n",
    "palavras_relevantes = []\n",
    "palavras_irrelevantes = []\n",
    "\n",
    "def Listas2lista(listadelistas):\n",
    "    nova_lista = []\n",
    "    for sublista in listadelistas:\n",
    "        for item in sublista:\n",
    "            nova_lista.append(item)\n",
    "    return nova_lista\n",
    "\n",
    "palavras_relevantes = Listas2lista(todas_palavras_relevantes)\n",
    "palavras_irrelevantes = Listas2lista(todas_palavras_irrelevantes)\n",
    "\n",
    "palvras_relevantes_data = pd.Series(palavras_relevantes)\n",
    "palvras_irrelevantes_data = pd.Series(palavras_irrelevantes)\n",
    "\n",
    "palavras_totais = palavras_relevantes + palavras_irrelevantes\n"
   ]
  },
  {
   "cell_type": "code",
   "execution_count": 13,
   "metadata": {},
   "outputs": [
    {
     "name": "stdout",
     "output_type": "stream",
     "text": [
      "A probabilidade de qualque palavra ser relevante é de 57.10708323396136%\n",
      "A probabilidade de qualque palavra ser irrelevante é de 42.89291676603864%\n"
     ]
    }
   ],
   "source": [
    "#Probabilidade de ser Relevante ou Irrelevante dentro de todas as palavras da base de treinamento\n",
    "P_relevante = len(palavras_relevantes)/(len(palavras_totais))\n",
    "P_irrelevante = len(palavras_irrelevantes)/(len(palavras_totais))\n",
    "\n",
    "print('A probabilidade de qualque palavra ser relevante é de {0}%'.format((P_relevante*100)))\n",
    "print('A probabilidade de qualque palavra ser irrelevante é de {0}%'.format(P_irrelevante*100))"
   ]
  },
  {
   "cell_type": "code",
   "execution_count": 14,
   "metadata": {},
   "outputs": [
    {
     "data": {
      "text/plain": [
       "corona    252\n",
       "de        102\n",
       "vírus      87\n",
       "que        78\n",
       "eu         71\n",
       "dtype: int64"
      ]
     },
     "execution_count": 14,
     "metadata": {},
     "output_type": "execute_result"
    }
   ],
   "source": [
    "# Tabelas de frequências absolutas:\n",
    "tabela_relevantes_abs = palvras_relevantes_data.value_counts()\n",
    "tabela_irrelevantes_abs = palvras_irrelevantes_data.value_counts()\n",
    "tabela_irrelevantes_abs.head()"
   ]
  },
  {
   "cell_type": "code",
   "execution_count": 15,
   "metadata": {},
   "outputs": [
    {
     "data": {
      "text/plain": [
       "corona    0.048236\n",
       "de        0.036751\n",
       "que       0.024431\n",
       "e         0.022552\n",
       "do        0.021508\n",
       "dtype: float64"
      ]
     },
     "execution_count": 15,
     "metadata": {},
     "output_type": "execute_result"
    }
   ],
   "source": [
    "# Tabelas de frequências relativas:\n",
    "tabela_relevantes_rel = palvras_relevantes_data.value_counts(True)\n",
    "tabela_irrelevantes_rel = palvras_irrelevantes_data.value_counts(True)\n",
    "tabela_relevantes_rel.head()"
   ]
  },
  {
   "cell_type": "code",
   "execution_count": 16,
   "metadata": {},
   "outputs": [],
   "source": [
    "# Essa função calcula a Probabilidade de, dado o tweet, este ser relevante ou irrelevante:\n",
    "\n",
    "palavras_sem_repetições = list(dict.fromkeys(palavras_totais))\n",
    "\n",
    "def RetornaFrequencia(palavra, lista_de_palavras):\n",
    "    frequencia =0\n",
    "    if palavra in tabela_relevantes_abs:\n",
    "        frequencia = lista_de_palavras.count(palavra)/len(lista_de_palavras)\n",
    "    else:\n",
    "        frequencia = 1/len(lista_de_palavras)\n",
    "    \n",
    "    return frequencia\n",
    "\n",
    "def calcula_probabilidades(tweet, P_relevante, P_irrelevante):\n",
    "    \n",
    "    # Uso da função Cleanup para limpar o tweet e trasnformá-lo em uma lista de palavras\n",
    "    tweet = cleanup(tweet)\n",
    "    \n",
    "    P_tweet_dado_relevante = 1\n",
    "    P_tweet_dado_irrelevante = 1\n",
    "    \n",
    "    for i in range(len(tweet)):\n",
    "        P_tweet_dado_relevante *= RetornaFrequencia(tweet[i], palavras_relevantes)\n",
    "    \n",
    "    for i in range(len(tweet)):\n",
    "        P_tweet_dado_irrelevante *= RetornaFrequencia(tweet[i], palavras_irrelevantes)\n",
    "\n",
    "    P_relevante_dado_tweet = P_tweet_dado_relevante * P_relevante\n",
    "    P_irrelevante_dado_tweet = P_tweet_dado_irrelevante * P_irrelevante\n",
    "    \n",
    "    probabilidades = [P_irrelevante_dado_tweet, P_relevante_dado_tweet]\n",
    "    \n",
    "    return probabilidades\n",
    "    "
   ]
  },
  {
   "cell_type": "code",
   "execution_count": 17,
   "metadata": {},
   "outputs": [
    {
     "name": "stdout",
     "output_type": "stream",
     "text": [
      "Relevante\n"
     ]
    }
   ],
   "source": [
    "# Teste do Classificador com Tweet aleatório\n",
    "def Classificador(probabilidades):\n",
    "\n",
    "    if probabilidades[0] > probabilidades[1]:\n",
    "        return 'Irrelevante'\n",
    "    else:\n",
    "        return 'Relevante'\n",
    "    \n",
    "tweet_teste = \"Para se previnir contra o corona, lave as mãos com água e sabão\"\n",
    "\n",
    "teste = Classificador(calcula_probabilidades(tweet_teste, P_relevante, P_irrelevante))\n",
    "\n",
    "print(teste)"
   ]
  },
  {
   "cell_type": "code",
   "execution_count": 18,
   "metadata": {},
   "outputs": [
    {
     "data": {
      "text/html": [
       "<div>\n",
       "<style scoped>\n",
       "    .dataframe tbody tr th:only-of-type {\n",
       "        vertical-align: middle;\n",
       "    }\n",
       "\n",
       "    .dataframe tbody tr th {\n",
       "        vertical-align: top;\n",
       "    }\n",
       "\n",
       "    .dataframe thead th {\n",
       "        text-align: right;\n",
       "    }\n",
       "</style>\n",
       "<table border=\"1\" class=\"dataframe\">\n",
       "  <thead>\n",
       "    <tr style=\"text-align: right;\">\n",
       "      <th></th>\n",
       "      <th>Relevância</th>\n",
       "      <th>Mensagem</th>\n",
       "      <th>Classificação Treinamento</th>\n",
       "    </tr>\n",
       "  </thead>\n",
       "  <tbody>\n",
       "    <tr>\n",
       "      <th>0</th>\n",
       "      <td>Relevante</td>\n",
       "      <td>rt @joaopauloz_: saber que algumas pessoas com...</td>\n",
       "      <td>Relevante</td>\n",
       "    </tr>\n",
       "    <tr>\n",
       "      <th>1</th>\n",
       "      <td>Irrelevante</td>\n",
       "      <td>rt @thewayjane: se a campeã não sair daqui o c...</td>\n",
       "      <td>Irrelevante</td>\n",
       "    </tr>\n",
       "    <tr>\n",
       "      <th>2</th>\n",
       "      <td>Relevante</td>\n",
       "      <td>na espanha tá feio o corona, tenho medo de que...</td>\n",
       "      <td>Relevante</td>\n",
       "    </tr>\n",
       "    <tr>\n",
       "      <th>3</th>\n",
       "      <td>Irrelevante</td>\n",
       "      <td>rt @george_fredson: dos mesmos criadores de \"a...</td>\n",
       "      <td>Irrelevante</td>\n",
       "    </tr>\n",
       "    <tr>\n",
       "      <th>4</th>\n",
       "      <td>Irrelevante</td>\n",
       "      <td>as primeiras que vão pega corona vírus aqui na...</td>\n",
       "      <td>Irrelevante</td>\n",
       "    </tr>\n",
       "  </tbody>\n",
       "</table>\n",
       "</div>"
      ],
      "text/plain": [
       "    Relevância                                           Mensagem  \\\n",
       "0    Relevante  rt @joaopauloz_: saber que algumas pessoas com...   \n",
       "1  Irrelevante  rt @thewayjane: se a campeã não sair daqui o c...   \n",
       "2    Relevante  na espanha tá feio o corona, tenho medo de que...   \n",
       "3  Irrelevante  rt @george_fredson: dos mesmos criadores de \"a...   \n",
       "4  Irrelevante  as primeiras que vão pega corona vírus aqui na...   \n",
       "\n",
       "  Classificação Treinamento  \n",
       "0                 Relevante  \n",
       "1               Irrelevante  \n",
       "2                 Relevante  \n",
       "3               Irrelevante  \n",
       "4               Irrelevante  "
      ]
     },
     "execution_count": 18,
     "metadata": {},
     "output_type": "execute_result"
    }
   ],
   "source": [
    "# Teste do Classificador com dados do Treinamento\n",
    "resultado = []\n",
    "for i in range(len(dados.Mensagem)):\n",
    "    resultado.append(Classificador(calcula_probabilidades(dados.Mensagem[i], P_relevante, P_irrelevante)))\n",
    "\n",
    "dados['Classificação Treinamento'] = resultado\n",
    "dados.head()"
   ]
  },
  {
   "cell_type": "code",
   "execution_count": 19,
   "metadata": {},
   "outputs": [
    {
     "name": "stdout",
     "output_type": "stream",
     "text": [
      "Irrelevante\n"
     ]
    }
   ],
   "source": [
    "x = dados['Classificação Treinamento'][1]\n",
    "print(x)"
   ]
  },
  {
   "cell_type": "code",
   "execution_count": 20,
   "metadata": {},
   "outputs": [
    {
     "name": "stdout",
     "output_type": "stream",
     "text": [
      "473\n",
      "27\n"
     ]
    }
   ],
   "source": [
    "acertou = 0\n",
    "errou = 0\n",
    "\n",
    "for i in range(0,len(dados['Relevância'])):\n",
    "    if dados['Relevância'][i] == dados['Classificação Treinamento'][i]:\n",
    "        acertou += 1\n",
    "    else:\n",
    "        errou += 1\n",
    "    \n",
    "print(acertou)\n",
    "print(errou)"
   ]
  },
  {
   "cell_type": "markdown",
   "metadata": {},
   "source": [
    "___\n",
    "### Verificando a performance do Classificador\n",
    "\n",
    "Agora você deve testar o seu classificador com a base de Testes."
   ]
  },
  {
   "cell_type": "code",
   "execution_count": 21,
   "metadata": {},
   "outputs": [
    {
     "data": {
      "text/html": [
       "<div>\n",
       "<style scoped>\n",
       "    .dataframe tbody tr th:only-of-type {\n",
       "        vertical-align: middle;\n",
       "    }\n",
       "\n",
       "    .dataframe tbody tr th {\n",
       "        vertical-align: top;\n",
       "    }\n",
       "\n",
       "    .dataframe thead th {\n",
       "        text-align: right;\n",
       "    }\n",
       "</style>\n",
       "<table border=\"1\" class=\"dataframe\">\n",
       "  <thead>\n",
       "    <tr style=\"text-align: right;\">\n",
       "      <th></th>\n",
       "      <th>Relevância</th>\n",
       "      <th>Mensagem</th>\n",
       "    </tr>\n",
       "  </thead>\n",
       "  <tbody>\n",
       "    <tr>\n",
       "      <th>363</th>\n",
       "      <td>1.0</td>\n",
       "      <td>índice de medo provocado pelo corona vírus pro...</td>\n",
       "    </tr>\n",
       "    <tr>\n",
       "      <th>364</th>\n",
       "      <td>1.0</td>\n",
       "      <td>nessa cena vemos algumas imbecilidades:\\n\\n1- ...</td>\n",
       "    </tr>\n",
       "    <tr>\n",
       "      <th>365</th>\n",
       "      <td>1.0</td>\n",
       "      <td>não aguento esses artistas fazendo drama, enqu...</td>\n",
       "    </tr>\n",
       "    <tr>\n",
       "      <th>366</th>\n",
       "      <td>1.0</td>\n",
       "      <td>rt @andreluiz332: o @lulaoficial  viajou a eur...</td>\n",
       "    </tr>\n",
       "    <tr>\n",
       "      <th>367</th>\n",
       "      <td>1.0</td>\n",
       "      <td>mano, o brasileiro médio precisa estar morrend...</td>\n",
       "    </tr>\n",
       "  </tbody>\n",
       "</table>\n",
       "</div>"
      ],
      "text/plain": [
       "     Relevância                                           Mensagem\n",
       "363         1.0  índice de medo provocado pelo corona vírus pro...\n",
       "364         1.0  nessa cena vemos algumas imbecilidades:\\n\\n1- ...\n",
       "365         1.0  não aguento esses artistas fazendo drama, enqu...\n",
       "366         1.0  rt @andreluiz332: o @lulaoficial  viajou a eur...\n",
       "367         1.0  mano, o brasileiro médio precisa estar morrend..."
      ]
     },
     "execution_count": 21,
     "metadata": {},
     "output_type": "execute_result"
    }
   ],
   "source": [
    "# Baixando Excel sheet \"Teste\"\n",
    "dados_teste = pd.read_excel('Corona.xlsx',sheet_name='Teste')\n",
    "dados_teste.tail()"
   ]
  },
  {
   "cell_type": "code",
   "execution_count": 22,
   "metadata": {},
   "outputs": [
    {
     "data": {
      "text/html": [
       "<div>\n",
       "<style scoped>\n",
       "    .dataframe tbody tr th:only-of-type {\n",
       "        vertical-align: middle;\n",
       "    }\n",
       "\n",
       "    .dataframe tbody tr th {\n",
       "        vertical-align: top;\n",
       "    }\n",
       "\n",
       "    .dataframe thead th {\n",
       "        text-align: right;\n",
       "    }\n",
       "</style>\n",
       "<table border=\"1\" class=\"dataframe\">\n",
       "  <thead>\n",
       "    <tr style=\"text-align: right;\">\n",
       "      <th></th>\n",
       "      <th>Relevância</th>\n",
       "      <th>Mensagem</th>\n",
       "    </tr>\n",
       "  </thead>\n",
       "  <tbody>\n",
       "    <tr>\n",
       "      <th>0</th>\n",
       "      <td>Relevante</td>\n",
       "      <td>rt @joaopauloz_: saber que algumas pessoas com...</td>\n",
       "    </tr>\n",
       "    <tr>\n",
       "      <th>1</th>\n",
       "      <td>Irrelevante</td>\n",
       "      <td>rt @thewayjane: se a campeã não sair daqui o c...</td>\n",
       "    </tr>\n",
       "    <tr>\n",
       "      <th>2</th>\n",
       "      <td>Relevante</td>\n",
       "      <td>na espanha tá feio o corona, tenho medo de que...</td>\n",
       "    </tr>\n",
       "    <tr>\n",
       "      <th>3</th>\n",
       "      <td>Irrelevante</td>\n",
       "      <td>rt @george_fredson: dos mesmos criadores de \"a...</td>\n",
       "    </tr>\n",
       "    <tr>\n",
       "      <th>4</th>\n",
       "      <td>Irrelevante</td>\n",
       "      <td>as primeiras que vão pega corona vírus aqui na...</td>\n",
       "    </tr>\n",
       "  </tbody>\n",
       "</table>\n",
       "</div>"
      ],
      "text/plain": [
       "    Relevância                                           Mensagem\n",
       "0    Relevante  rt @joaopauloz_: saber que algumas pessoas com...\n",
       "1  Irrelevante  rt @thewayjane: se a campeã não sair daqui o c...\n",
       "2    Relevante  na espanha tá feio o corona, tenho medo de que...\n",
       "3  Irrelevante  rt @george_fredson: dos mesmos criadores de \"a...\n",
       "4  Irrelevante  as primeiras que vão pega corona vírus aqui na..."
      ]
     },
     "execution_count": 22,
     "metadata": {},
     "output_type": "execute_result"
    }
   ],
   "source": [
    "# Transformando dados em variaveis qualitativas\n",
    "dados_teste.loc[:,'Mensagem'] = dados['Mensagem'].astype('category')\n",
    "dados_teste.loc[:,'Relevância'] = dados['Relevância'].astype('category')\n",
    "dados_teste.Relevância.cat.categories = ['Irrelevante', 'Relevante']\n",
    "dados_teste.head(5)"
   ]
  },
  {
   "cell_type": "code",
   "execution_count": 23,
   "metadata": {},
   "outputs": [
    {
     "data": {
      "text/plain": [
       "'rt @thewayjane: se a campeã não sair daqui o corona já pode cancelar o bbb #bbb20 https://t.co/z4vvf9qn66'"
      ]
     },
     "execution_count": 23,
     "metadata": {},
     "output_type": "execute_result"
    }
   ],
   "source": [
    "# Separando dados em duas tabelas: Relevantes e Irrelevantes \n",
    "tweets_relevantes_teste = dados.loc[dados['Relevância'] == 'Relevante', :]\n",
    "tweets_irrelevantes_teste = dados.loc[dados['Relevância'] == 'Irrelevante', :]\n",
    "\n",
    "# Teste de separação de mensagem\n",
    "tweets_irrelevantes_teste.Mensagem[1]"
   ]
  },
  {
   "cell_type": "code",
   "execution_count": 24,
   "metadata": {},
   "outputs": [],
   "source": [
    "# Criando listas com os índices dos Tweets relevante e irrelevantes\n",
    "lista_indices_relevantes_teste = []\n",
    "lista_indices_irrelevantes_teste = []\n",
    "\n",
    "for i in range(len(dados_teste.Mensagem)):\n",
    "    if dados_teste.Relevância[i] == 'Relevante':\n",
    "        lista_indices_relevantes_teste.append(dados.index[i])\n",
    "    elif dados_teste.Relevância[i] == 'Irrelevante':\n",
    "        lista_indices_irrelevantes_teste.append(dados.index[i])"
   ]
  },
  {
   "cell_type": "code",
   "execution_count": 25,
   "metadata": {},
   "outputs": [
    {
     "name": "stdout",
     "output_type": "stream",
     "text": [
      "['se', 'campeã', 'não', 'sair', 'daqui', 'corona', 'já', 'pode', 'cancelar', 'bbb', 'bbb20']\n"
     ]
    }
   ],
   "source": [
    "# Teste do uso da função de limpeza\n",
    "my_str = cleanup(tweets_irrelevantes_teste.Mensagem[1])\n",
    "print(my_str)"
   ]
  },
  {
   "cell_type": "code",
   "execution_count": 26,
   "metadata": {},
   "outputs": [
    {
     "data": {
      "text/html": [
       "<div>\n",
       "<style scoped>\n",
       "    .dataframe tbody tr th:only-of-type {\n",
       "        vertical-align: middle;\n",
       "    }\n",
       "\n",
       "    .dataframe tbody tr th {\n",
       "        vertical-align: top;\n",
       "    }\n",
       "\n",
       "    .dataframe thead th {\n",
       "        text-align: right;\n",
       "    }\n",
       "</style>\n",
       "<table border=\"1\" class=\"dataframe\">\n",
       "  <thead>\n",
       "    <tr style=\"text-align: right;\">\n",
       "      <th></th>\n",
       "      <th>Relevância</th>\n",
       "      <th>Mensagem</th>\n",
       "      <th>Classificação Treinamento</th>\n",
       "    </tr>\n",
       "  </thead>\n",
       "  <tbody>\n",
       "    <tr>\n",
       "      <th>363</th>\n",
       "      <td>Irrelevante</td>\n",
       "      <td>rt @brunofe53103298: corona virus que lute, ma...</td>\n",
       "      <td>Irrelevante</td>\n",
       "    </tr>\n",
       "    <tr>\n",
       "      <th>364</th>\n",
       "      <td>Relevante</td>\n",
       "      <td>rt @carolinatmoura: única preocupação em relaç...</td>\n",
       "      <td>Relevante</td>\n",
       "    </tr>\n",
       "    <tr>\n",
       "      <th>365</th>\n",
       "      <td>Irrelevante</td>\n",
       "      <td>rt @habbid: cof cof cof... calma gente não é c...</td>\n",
       "      <td>Irrelevante</td>\n",
       "    </tr>\n",
       "    <tr>\n",
       "      <th>366</th>\n",
       "      <td>Relevante</td>\n",
       "      <td>rt @apfaqui: quer tanto que achem a cura do co...</td>\n",
       "      <td>Relevante</td>\n",
       "    </tr>\n",
       "    <tr>\n",
       "      <th>367</th>\n",
       "      <td>Irrelevante</td>\n",
       "      <td>rt @dougllasssd: corona vírus não atingirá nem...</td>\n",
       "      <td>Irrelevante</td>\n",
       "    </tr>\n",
       "  </tbody>\n",
       "</table>\n",
       "</div>"
      ],
      "text/plain": [
       "      Relevância                                           Mensagem  \\\n",
       "363  Irrelevante  rt @brunofe53103298: corona virus que lute, ma...   \n",
       "364    Relevante  rt @carolinatmoura: única preocupação em relaç...   \n",
       "365  Irrelevante  rt @habbid: cof cof cof... calma gente não é c...   \n",
       "366    Relevante  rt @apfaqui: quer tanto que achem a cura do co...   \n",
       "367  Irrelevante  rt @dougllasssd: corona vírus não atingirá nem...   \n",
       "\n",
       "    Classificação Treinamento  \n",
       "363               Irrelevante  \n",
       "364                 Relevante  \n",
       "365               Irrelevante  \n",
       "366                 Relevante  \n",
       "367               Irrelevante  "
      ]
     },
     "execution_count": 26,
     "metadata": {},
     "output_type": "execute_result"
    }
   ],
   "source": [
    "# Para o teste, utilizaremos os dados do treinamento\n",
    "resultado_teste = []\n",
    "for i in range(len(dados_teste.Mensagem)):\n",
    "    resultado_teste.append(Classificador(calcula_probabilidades(dados_teste.Mensagem[i], P_relevante, P_irrelevante)))\n",
    "\n",
    "dados_teste['Classificação Treinamento'] = resultado_teste\n",
    "dados_teste.tail()"
   ]
  },
  {
   "cell_type": "code",
   "execution_count": 27,
   "metadata": {},
   "outputs": [
    {
     "name": "stdout",
     "output_type": "stream",
     "text": [
      "349\n",
      "19\n"
     ]
    }
   ],
   "source": [
    "# Contabilizador de erros e acertos\n",
    "acertou_teste = 0\n",
    "errou_teste = 0\n",
    "\n",
    "for i in range(0,len(dados_teste['Relevância'])):\n",
    "    if dados_teste['Relevância'][i] == dados_teste['Classificação Treinamento'][i]:\n",
    "        acertou_teste += 1\n",
    "    else:\n",
    "        errou_teste += 1\n",
    "    \n",
    "print(acertou_teste)\n",
    "print(errou_teste)"
   ]
  },
  {
   "cell_type": "markdown",
   "metadata": {},
   "source": [
    "___\n",
    "### Concluindo"
   ]
  },
  {
   "cell_type": "code",
   "execution_count": null,
   "metadata": {},
   "outputs": [],
   "source": []
  },
  {
   "cell_type": "code",
   "execution_count": null,
   "metadata": {},
   "outputs": [],
   "source": []
  },
  {
   "cell_type": "markdown",
   "metadata": {},
   "source": [
    "___\n",
    "## Aperfeiçoamento:\n",
    "\n",
    "Os trabalhos vão evoluir em conceito dependendo da quantidade de itens avançados:\n",
    "\n",
    "* Limpar: \\n, :, \", ', (, ), etc SEM remover emojis\n",
    "* Corrigir separação de espaços entre palavras e emojis ou entre emojis e emojis\n",
    "* Propor outras limpezas e transformações que não afetem a qualidade da informação ou classificação\n",
    "* Criar categorias intermediárias de relevância baseadas na probabilidade: ex.: muito relevante, relevante, neutro, irrelevante, muito irrelevante (3 categorias: C, mais categorias conta para B)\n",
    "* Explicar por que não posso usar o próprio classificador para gerar mais amostras de treinamento\n",
    "* Propor diferentes cenários para Naïve Bayes fora do contexto do projeto\n",
    "* Sugerir e explicar melhorias reais com indicações concretas de como implementar (indicar como fazer e indicar material de pesquisa)\n",
    "* Montar um dashboard que periodicamente realiza análise de sentimento e visualiza estes dados"
   ]
  },
  {
   "cell_type": "markdown",
   "metadata": {},
   "source": [
    "___\n",
    "## Referências"
   ]
  },
  {
   "cell_type": "markdown",
   "metadata": {},
   "source": [
    "[Naive Bayes and Text Classification](https://arxiv.org/pdf/1410.5329.pdf)  **Mais completo**\n",
    "\n",
    "[A practical explanation of a Naive Bayes Classifier](https://monkeylearn.com/blog/practical-explanation-naive-bayes-classifier/) **Mais simples**"
   ]
  },
  {
   "cell_type": "code",
   "execution_count": 28,
   "metadata": {},
   "outputs": [],
   "source": [
    "# https://stackoverflow.com/questions/54733828/remove-twitter-mentions-from-pandas-column\n",
    "# https://stackoverflow.com/questions/49921720/how-to-split-emoji-from-each-other-python\n",
    "# https://stackoverflow.com/questions/12309976/how-do-i-convert-a-list-into-a-string-with-spaces-in-python"
   ]
  }
 ],
 "metadata": {
  "kernelspec": {
   "display_name": "Python 3",
   "language": "python",
   "name": "python3"
  },
  "language_info": {
   "codemirror_mode": {
    "name": "ipython",
    "version": 3
   },
   "file_extension": ".py",
   "mimetype": "text/x-python",
   "name": "python",
   "nbconvert_exporter": "python",
   "pygments_lexer": "ipython3",
   "version": "3.7.3"
  }
 },
 "nbformat": 4,
 "nbformat_minor": 4
}
